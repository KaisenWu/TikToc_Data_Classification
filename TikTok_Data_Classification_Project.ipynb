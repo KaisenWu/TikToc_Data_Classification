{
  "nbformat": 4,
  "nbformat_minor": 0,
  "metadata": {
    "colab": {
      "provenance": [],
      "collapsed_sections": [
        "0jUdGIeA_lta",
        "9slRA6Sw_3Vh",
        "-2mkCAzuKf17",
        "EU3X6f_la-VA",
        "kYHfdBazJHLx",
        "9cRtTc4GYWFF",
        "gbiu7oIandV2"
      ],
      "mount_file_id": "1zpHxFLuJPjWuKkZ50rSMED6p9_zzBqY0",
      "authorship_tag": "ABX9TyOc94gGL2qER328+KO6ztU3",
      "include_colab_link": true
    },
    "kernelspec": {
      "name": "python3",
      "display_name": "Python 3"
    },
    "language_info": {
      "name": "python"
    }
  },
  "cells": [
    {
      "cell_type": "markdown",
      "metadata": {
        "id": "view-in-github",
        "colab_type": "text"
      },
      "source": [
        "<a href=\"https://colab.research.google.com/github/KaisenWu/TikToc_Data_Classification/blob/main/TikTok_Data_Classification_Project.ipynb\" target=\"_parent\"><img src=\"https://colab.research.google.com/assets/colab-badge.svg\" alt=\"Open In Colab\"/></a>"
      ]
    },
    {
      "cell_type": "markdown",
      "source": [
        "## Part1: Dataset Description and Dataframe Preperation"
      ],
      "metadata": {
        "id": "0jUdGIeA_lta"
      }
    },
    {
      "cell_type": "code",
      "execution_count": 1,
      "metadata": {
        "id": "xQhafMwr73Dy"
      },
      "outputs": [],
      "source": [
        "# Import required libraries.\n",
        "import pandas as pd\n",
        "import numpy as np\n",
        "import matplotlib.pyplot as plt\n",
        "import seaborn as sns"
      ]
    },
    {
      "cell_type": "code",
      "source": [
        "# Load the dataframe.\n",
        "df = pd.read_csv(\"/content/drive/MyDrive/Colab Notebooks/TikTok_Classification_Project/tiktok_dataset.csv\")"
      ],
      "metadata": {
        "id": "WO31gxcK8MI6"
      },
      "execution_count": 2,
      "outputs": []
    },
    {
      "cell_type": "markdown",
      "source": [
        "## Part 2: Explotory Data Analysis (EDA)"
      ],
      "metadata": {
        "id": "9slRA6Sw_3Vh"
      }
    },
    {
      "cell_type": "markdown",
      "source": [
        "### Dataset Inspection"
      ],
      "metadata": {
        "id": "TmYaXfL9AQO3"
      }
    },
    {
      "cell_type": "code",
      "source": [
        "# Check the first 5 rows of the dataframe.\n",
        "df.head()"
      ],
      "metadata": {
        "colab": {
          "base_uri": "https://localhost:8080/",
          "height": 357
        },
        "id": "hSTbVWp98UxN",
        "outputId": "694048ec-ab86-462f-c8a8-2fed1bc26ce4"
      },
      "execution_count": 3,
      "outputs": [
        {
          "output_type": "execute_result",
          "data": {
            "text/plain": [
              "   # claim_status    video_id  video_duration_sec  \\\n",
              "0  1        claim  7017666017                  59   \n",
              "1  2        claim  4014381136                  32   \n",
              "2  3        claim  9859838091                  31   \n",
              "3  4        claim  1866847991                  25   \n",
              "4  5        claim  7105231098                  19   \n",
              "\n",
              "                            video_transcription_text verified_status  \\\n",
              "0  someone shared with me that drone deliveries a...    not verified   \n",
              "1  someone shared with me that there are more mic...    not verified   \n",
              "2  someone shared with me that american industria...    not verified   \n",
              "3  someone shared with me that the metro of st. p...    not verified   \n",
              "4  someone shared with me that the number of busi...    not verified   \n",
              "\n",
              "  author_ban_status  video_view_count  video_like_count  video_share_count  \\\n",
              "0      under review          343296.0           19425.0              241.0   \n",
              "1            active          140877.0           77355.0            19034.0   \n",
              "2            active          902185.0           97690.0             2858.0   \n",
              "3            active          437506.0          239954.0            34812.0   \n",
              "4            active           56167.0           34987.0             4110.0   \n",
              "\n",
              "   video_download_count  video_comment_count  \n",
              "0                   1.0                  0.0  \n",
              "1                1161.0                684.0  \n",
              "2                 833.0                329.0  \n",
              "3                1234.0                584.0  \n",
              "4                 547.0                152.0  "
            ],
            "text/html": [
              "\n",
              "  <div id=\"df-f49fdaaa-3e90-4ef7-958c-f2f7ee08b011\">\n",
              "    <div class=\"colab-df-container\">\n",
              "      <div>\n",
              "<style scoped>\n",
              "    .dataframe tbody tr th:only-of-type {\n",
              "        vertical-align: middle;\n",
              "    }\n",
              "\n",
              "    .dataframe tbody tr th {\n",
              "        vertical-align: top;\n",
              "    }\n",
              "\n",
              "    .dataframe thead th {\n",
              "        text-align: right;\n",
              "    }\n",
              "</style>\n",
              "<table border=\"1\" class=\"dataframe\">\n",
              "  <thead>\n",
              "    <tr style=\"text-align: right;\">\n",
              "      <th></th>\n",
              "      <th>#</th>\n",
              "      <th>claim_status</th>\n",
              "      <th>video_id</th>\n",
              "      <th>video_duration_sec</th>\n",
              "      <th>video_transcription_text</th>\n",
              "      <th>verified_status</th>\n",
              "      <th>author_ban_status</th>\n",
              "      <th>video_view_count</th>\n",
              "      <th>video_like_count</th>\n",
              "      <th>video_share_count</th>\n",
              "      <th>video_download_count</th>\n",
              "      <th>video_comment_count</th>\n",
              "    </tr>\n",
              "  </thead>\n",
              "  <tbody>\n",
              "    <tr>\n",
              "      <th>0</th>\n",
              "      <td>1</td>\n",
              "      <td>claim</td>\n",
              "      <td>7017666017</td>\n",
              "      <td>59</td>\n",
              "      <td>someone shared with me that drone deliveries a...</td>\n",
              "      <td>not verified</td>\n",
              "      <td>under review</td>\n",
              "      <td>343296.0</td>\n",
              "      <td>19425.0</td>\n",
              "      <td>241.0</td>\n",
              "      <td>1.0</td>\n",
              "      <td>0.0</td>\n",
              "    </tr>\n",
              "    <tr>\n",
              "      <th>1</th>\n",
              "      <td>2</td>\n",
              "      <td>claim</td>\n",
              "      <td>4014381136</td>\n",
              "      <td>32</td>\n",
              "      <td>someone shared with me that there are more mic...</td>\n",
              "      <td>not verified</td>\n",
              "      <td>active</td>\n",
              "      <td>140877.0</td>\n",
              "      <td>77355.0</td>\n",
              "      <td>19034.0</td>\n",
              "      <td>1161.0</td>\n",
              "      <td>684.0</td>\n",
              "    </tr>\n",
              "    <tr>\n",
              "      <th>2</th>\n",
              "      <td>3</td>\n",
              "      <td>claim</td>\n",
              "      <td>9859838091</td>\n",
              "      <td>31</td>\n",
              "      <td>someone shared with me that american industria...</td>\n",
              "      <td>not verified</td>\n",
              "      <td>active</td>\n",
              "      <td>902185.0</td>\n",
              "      <td>97690.0</td>\n",
              "      <td>2858.0</td>\n",
              "      <td>833.0</td>\n",
              "      <td>329.0</td>\n",
              "    </tr>\n",
              "    <tr>\n",
              "      <th>3</th>\n",
              "      <td>4</td>\n",
              "      <td>claim</td>\n",
              "      <td>1866847991</td>\n",
              "      <td>25</td>\n",
              "      <td>someone shared with me that the metro of st. p...</td>\n",
              "      <td>not verified</td>\n",
              "      <td>active</td>\n",
              "      <td>437506.0</td>\n",
              "      <td>239954.0</td>\n",
              "      <td>34812.0</td>\n",
              "      <td>1234.0</td>\n",
              "      <td>584.0</td>\n",
              "    </tr>\n",
              "    <tr>\n",
              "      <th>4</th>\n",
              "      <td>5</td>\n",
              "      <td>claim</td>\n",
              "      <td>7105231098</td>\n",
              "      <td>19</td>\n",
              "      <td>someone shared with me that the number of busi...</td>\n",
              "      <td>not verified</td>\n",
              "      <td>active</td>\n",
              "      <td>56167.0</td>\n",
              "      <td>34987.0</td>\n",
              "      <td>4110.0</td>\n",
              "      <td>547.0</td>\n",
              "      <td>152.0</td>\n",
              "    </tr>\n",
              "  </tbody>\n",
              "</table>\n",
              "</div>\n",
              "      <button class=\"colab-df-convert\" onclick=\"convertToInteractive('df-f49fdaaa-3e90-4ef7-958c-f2f7ee08b011')\"\n",
              "              title=\"Convert this dataframe to an interactive table.\"\n",
              "              style=\"display:none;\">\n",
              "        \n",
              "  <svg xmlns=\"http://www.w3.org/2000/svg\" height=\"24px\"viewBox=\"0 0 24 24\"\n",
              "       width=\"24px\">\n",
              "    <path d=\"M0 0h24v24H0V0z\" fill=\"none\"/>\n",
              "    <path d=\"M18.56 5.44l.94 2.06.94-2.06 2.06-.94-2.06-.94-.94-2.06-.94 2.06-2.06.94zm-11 1L8.5 8.5l.94-2.06 2.06-.94-2.06-.94L8.5 2.5l-.94 2.06-2.06.94zm10 10l.94 2.06.94-2.06 2.06-.94-2.06-.94-.94-2.06-.94 2.06-2.06.94z\"/><path d=\"M17.41 7.96l-1.37-1.37c-.4-.4-.92-.59-1.43-.59-.52 0-1.04.2-1.43.59L10.3 9.45l-7.72 7.72c-.78.78-.78 2.05 0 2.83L4 21.41c.39.39.9.59 1.41.59.51 0 1.02-.2 1.41-.59l7.78-7.78 2.81-2.81c.8-.78.8-2.07 0-2.86zM5.41 20L4 18.59l7.72-7.72 1.47 1.35L5.41 20z\"/>\n",
              "  </svg>\n",
              "      </button>\n",
              "      \n",
              "  <style>\n",
              "    .colab-df-container {\n",
              "      display:flex;\n",
              "      flex-wrap:wrap;\n",
              "      gap: 12px;\n",
              "    }\n",
              "\n",
              "    .colab-df-convert {\n",
              "      background-color: #E8F0FE;\n",
              "      border: none;\n",
              "      border-radius: 50%;\n",
              "      cursor: pointer;\n",
              "      display: none;\n",
              "      fill: #1967D2;\n",
              "      height: 32px;\n",
              "      padding: 0 0 0 0;\n",
              "      width: 32px;\n",
              "    }\n",
              "\n",
              "    .colab-df-convert:hover {\n",
              "      background-color: #E2EBFA;\n",
              "      box-shadow: 0px 1px 2px rgba(60, 64, 67, 0.3), 0px 1px 3px 1px rgba(60, 64, 67, 0.15);\n",
              "      fill: #174EA6;\n",
              "    }\n",
              "\n",
              "    [theme=dark] .colab-df-convert {\n",
              "      background-color: #3B4455;\n",
              "      fill: #D2E3FC;\n",
              "    }\n",
              "\n",
              "    [theme=dark] .colab-df-convert:hover {\n",
              "      background-color: #434B5C;\n",
              "      box-shadow: 0px 1px 3px 1px rgba(0, 0, 0, 0.15);\n",
              "      filter: drop-shadow(0px 1px 2px rgba(0, 0, 0, 0.3));\n",
              "      fill: #FFFFFF;\n",
              "    }\n",
              "  </style>\n",
              "\n",
              "      <script>\n",
              "        const buttonEl =\n",
              "          document.querySelector('#df-f49fdaaa-3e90-4ef7-958c-f2f7ee08b011 button.colab-df-convert');\n",
              "        buttonEl.style.display =\n",
              "          google.colab.kernel.accessAllowed ? 'block' : 'none';\n",
              "\n",
              "        async function convertToInteractive(key) {\n",
              "          const element = document.querySelector('#df-f49fdaaa-3e90-4ef7-958c-f2f7ee08b011');\n",
              "          const dataTable =\n",
              "            await google.colab.kernel.invokeFunction('convertToInteractive',\n",
              "                                                     [key], {});\n",
              "          if (!dataTable) return;\n",
              "\n",
              "          const docLinkHtml = 'Like what you see? Visit the ' +\n",
              "            '<a target=\"_blank\" href=https://colab.research.google.com/notebooks/data_table.ipynb>data table notebook</a>'\n",
              "            + ' to learn more about interactive tables.';\n",
              "          element.innerHTML = '';\n",
              "          dataTable['output_type'] = 'display_data';\n",
              "          await google.colab.output.renderOutput(dataTable, element);\n",
              "          const docLink = document.createElement('div');\n",
              "          docLink.innerHTML = docLinkHtml;\n",
              "          element.appendChild(docLink);\n",
              "        }\n",
              "      </script>\n",
              "    </div>\n",
              "  </div>\n",
              "  "
            ]
          },
          "metadata": {},
          "execution_count": 3
        }
      ]
    },
    {
      "cell_type": "code",
      "source": [
        "# Check the data type, value count and null values in the dataframe.\n",
        "df.info()"
      ],
      "metadata": {
        "colab": {
          "base_uri": "https://localhost:8080/"
        },
        "id": "CymByHwi8awx",
        "outputId": "dd1dd222-f9a0-44d6-95a4-4a80778ed87c"
      },
      "execution_count": 4,
      "outputs": [
        {
          "output_type": "stream",
          "name": "stdout",
          "text": [
            "<class 'pandas.core.frame.DataFrame'>\n",
            "RangeIndex: 19382 entries, 0 to 19381\n",
            "Data columns (total 12 columns):\n",
            " #   Column                    Non-Null Count  Dtype  \n",
            "---  ------                    --------------  -----  \n",
            " 0   #                         19382 non-null  int64  \n",
            " 1   claim_status              19084 non-null  object \n",
            " 2   video_id                  19382 non-null  int64  \n",
            " 3   video_duration_sec        19382 non-null  int64  \n",
            " 4   video_transcription_text  19084 non-null  object \n",
            " 5   verified_status           19382 non-null  object \n",
            " 6   author_ban_status         19382 non-null  object \n",
            " 7   video_view_count          19084 non-null  float64\n",
            " 8   video_like_count          19084 non-null  float64\n",
            " 9   video_share_count         19084 non-null  float64\n",
            " 10  video_download_count      19084 non-null  float64\n",
            " 11  video_comment_count       19084 non-null  float64\n",
            "dtypes: float64(5), int64(3), object(4)\n",
            "memory usage: 1.8+ MB\n"
          ]
        }
      ]
    },
    {
      "cell_type": "markdown",
      "source": [
        "*Observation: The data types are all correct. There are null values exist.*"
      ],
      "metadata": {
        "id": "ryL9IbBf-lZH"
      }
    },
    {
      "cell_type": "code",
      "source": [
        "# Get summary statistics info.\n",
        "df.describe()"
      ],
      "metadata": {
        "colab": {
          "base_uri": "https://localhost:8080/",
          "height": 364
        },
        "id": "qzPH_CVa8trm",
        "outputId": "9dc2f125-82f8-40c2-a2f5-ef9cfb2c6fca"
      },
      "execution_count": 5,
      "outputs": [
        {
          "output_type": "execute_result",
          "data": {
            "text/plain": [
              "                  #      video_id  video_duration_sec  video_view_count  \\\n",
              "count  19382.000000  1.938200e+04        19382.000000      19084.000000   \n",
              "mean    9691.500000  5.627454e+09           32.421732     254708.558688   \n",
              "std     5595.245794  2.536440e+09           16.229967     322893.280814   \n",
              "min        1.000000  1.234959e+09            5.000000         20.000000   \n",
              "25%     4846.250000  3.430417e+09           18.000000       4942.500000   \n",
              "50%     9691.500000  5.618664e+09           32.000000       9954.500000   \n",
              "75%    14536.750000  7.843960e+09           47.000000     504327.000000   \n",
              "max    19382.000000  9.999873e+09           60.000000     999817.000000   \n",
              "\n",
              "       video_like_count  video_share_count  video_download_count  \\\n",
              "count      19084.000000       19084.000000          19084.000000   \n",
              "mean       84304.636030       16735.248323           1049.429627   \n",
              "std       133420.546814       32036.174350           2004.299894   \n",
              "min            0.000000           0.000000              0.000000   \n",
              "25%          810.750000         115.000000              7.000000   \n",
              "50%         3403.500000         717.000000             46.000000   \n",
              "75%       125020.000000       18222.000000           1156.250000   \n",
              "max       657830.000000      256130.000000          14994.000000   \n",
              "\n",
              "       video_comment_count  \n",
              "count         19084.000000  \n",
              "mean            349.312146  \n",
              "std             799.638865  \n",
              "min               0.000000  \n",
              "25%               1.000000  \n",
              "50%               9.000000  \n",
              "75%             292.000000  \n",
              "max            9599.000000  "
            ],
            "text/html": [
              "\n",
              "  <div id=\"df-4d75c413-c19c-4966-b947-f48e7974a480\">\n",
              "    <div class=\"colab-df-container\">\n",
              "      <div>\n",
              "<style scoped>\n",
              "    .dataframe tbody tr th:only-of-type {\n",
              "        vertical-align: middle;\n",
              "    }\n",
              "\n",
              "    .dataframe tbody tr th {\n",
              "        vertical-align: top;\n",
              "    }\n",
              "\n",
              "    .dataframe thead th {\n",
              "        text-align: right;\n",
              "    }\n",
              "</style>\n",
              "<table border=\"1\" class=\"dataframe\">\n",
              "  <thead>\n",
              "    <tr style=\"text-align: right;\">\n",
              "      <th></th>\n",
              "      <th>#</th>\n",
              "      <th>video_id</th>\n",
              "      <th>video_duration_sec</th>\n",
              "      <th>video_view_count</th>\n",
              "      <th>video_like_count</th>\n",
              "      <th>video_share_count</th>\n",
              "      <th>video_download_count</th>\n",
              "      <th>video_comment_count</th>\n",
              "    </tr>\n",
              "  </thead>\n",
              "  <tbody>\n",
              "    <tr>\n",
              "      <th>count</th>\n",
              "      <td>19382.000000</td>\n",
              "      <td>1.938200e+04</td>\n",
              "      <td>19382.000000</td>\n",
              "      <td>19084.000000</td>\n",
              "      <td>19084.000000</td>\n",
              "      <td>19084.000000</td>\n",
              "      <td>19084.000000</td>\n",
              "      <td>19084.000000</td>\n",
              "    </tr>\n",
              "    <tr>\n",
              "      <th>mean</th>\n",
              "      <td>9691.500000</td>\n",
              "      <td>5.627454e+09</td>\n",
              "      <td>32.421732</td>\n",
              "      <td>254708.558688</td>\n",
              "      <td>84304.636030</td>\n",
              "      <td>16735.248323</td>\n",
              "      <td>1049.429627</td>\n",
              "      <td>349.312146</td>\n",
              "    </tr>\n",
              "    <tr>\n",
              "      <th>std</th>\n",
              "      <td>5595.245794</td>\n",
              "      <td>2.536440e+09</td>\n",
              "      <td>16.229967</td>\n",
              "      <td>322893.280814</td>\n",
              "      <td>133420.546814</td>\n",
              "      <td>32036.174350</td>\n",
              "      <td>2004.299894</td>\n",
              "      <td>799.638865</td>\n",
              "    </tr>\n",
              "    <tr>\n",
              "      <th>min</th>\n",
              "      <td>1.000000</td>\n",
              "      <td>1.234959e+09</td>\n",
              "      <td>5.000000</td>\n",
              "      <td>20.000000</td>\n",
              "      <td>0.000000</td>\n",
              "      <td>0.000000</td>\n",
              "      <td>0.000000</td>\n",
              "      <td>0.000000</td>\n",
              "    </tr>\n",
              "    <tr>\n",
              "      <th>25%</th>\n",
              "      <td>4846.250000</td>\n",
              "      <td>3.430417e+09</td>\n",
              "      <td>18.000000</td>\n",
              "      <td>4942.500000</td>\n",
              "      <td>810.750000</td>\n",
              "      <td>115.000000</td>\n",
              "      <td>7.000000</td>\n",
              "      <td>1.000000</td>\n",
              "    </tr>\n",
              "    <tr>\n",
              "      <th>50%</th>\n",
              "      <td>9691.500000</td>\n",
              "      <td>5.618664e+09</td>\n",
              "      <td>32.000000</td>\n",
              "      <td>9954.500000</td>\n",
              "      <td>3403.500000</td>\n",
              "      <td>717.000000</td>\n",
              "      <td>46.000000</td>\n",
              "      <td>9.000000</td>\n",
              "    </tr>\n",
              "    <tr>\n",
              "      <th>75%</th>\n",
              "      <td>14536.750000</td>\n",
              "      <td>7.843960e+09</td>\n",
              "      <td>47.000000</td>\n",
              "      <td>504327.000000</td>\n",
              "      <td>125020.000000</td>\n",
              "      <td>18222.000000</td>\n",
              "      <td>1156.250000</td>\n",
              "      <td>292.000000</td>\n",
              "    </tr>\n",
              "    <tr>\n",
              "      <th>max</th>\n",
              "      <td>19382.000000</td>\n",
              "      <td>9.999873e+09</td>\n",
              "      <td>60.000000</td>\n",
              "      <td>999817.000000</td>\n",
              "      <td>657830.000000</td>\n",
              "      <td>256130.000000</td>\n",
              "      <td>14994.000000</td>\n",
              "      <td>9599.000000</td>\n",
              "    </tr>\n",
              "  </tbody>\n",
              "</table>\n",
              "</div>\n",
              "      <button class=\"colab-df-convert\" onclick=\"convertToInteractive('df-4d75c413-c19c-4966-b947-f48e7974a480')\"\n",
              "              title=\"Convert this dataframe to an interactive table.\"\n",
              "              style=\"display:none;\">\n",
              "        \n",
              "  <svg xmlns=\"http://www.w3.org/2000/svg\" height=\"24px\"viewBox=\"0 0 24 24\"\n",
              "       width=\"24px\">\n",
              "    <path d=\"M0 0h24v24H0V0z\" fill=\"none\"/>\n",
              "    <path d=\"M18.56 5.44l.94 2.06.94-2.06 2.06-.94-2.06-.94-.94-2.06-.94 2.06-2.06.94zm-11 1L8.5 8.5l.94-2.06 2.06-.94-2.06-.94L8.5 2.5l-.94 2.06-2.06.94zm10 10l.94 2.06.94-2.06 2.06-.94-2.06-.94-.94-2.06-.94 2.06-2.06.94z\"/><path d=\"M17.41 7.96l-1.37-1.37c-.4-.4-.92-.59-1.43-.59-.52 0-1.04.2-1.43.59L10.3 9.45l-7.72 7.72c-.78.78-.78 2.05 0 2.83L4 21.41c.39.39.9.59 1.41.59.51 0 1.02-.2 1.41-.59l7.78-7.78 2.81-2.81c.8-.78.8-2.07 0-2.86zM5.41 20L4 18.59l7.72-7.72 1.47 1.35L5.41 20z\"/>\n",
              "  </svg>\n",
              "      </button>\n",
              "      \n",
              "  <style>\n",
              "    .colab-df-container {\n",
              "      display:flex;\n",
              "      flex-wrap:wrap;\n",
              "      gap: 12px;\n",
              "    }\n",
              "\n",
              "    .colab-df-convert {\n",
              "      background-color: #E8F0FE;\n",
              "      border: none;\n",
              "      border-radius: 50%;\n",
              "      cursor: pointer;\n",
              "      display: none;\n",
              "      fill: #1967D2;\n",
              "      height: 32px;\n",
              "      padding: 0 0 0 0;\n",
              "      width: 32px;\n",
              "    }\n",
              "\n",
              "    .colab-df-convert:hover {\n",
              "      background-color: #E2EBFA;\n",
              "      box-shadow: 0px 1px 2px rgba(60, 64, 67, 0.3), 0px 1px 3px 1px rgba(60, 64, 67, 0.15);\n",
              "      fill: #174EA6;\n",
              "    }\n",
              "\n",
              "    [theme=dark] .colab-df-convert {\n",
              "      background-color: #3B4455;\n",
              "      fill: #D2E3FC;\n",
              "    }\n",
              "\n",
              "    [theme=dark] .colab-df-convert:hover {\n",
              "      background-color: #434B5C;\n",
              "      box-shadow: 0px 1px 3px 1px rgba(0, 0, 0, 0.15);\n",
              "      filter: drop-shadow(0px 1px 2px rgba(0, 0, 0, 0.3));\n",
              "      fill: #FFFFFF;\n",
              "    }\n",
              "  </style>\n",
              "\n",
              "      <script>\n",
              "        const buttonEl =\n",
              "          document.querySelector('#df-4d75c413-c19c-4966-b947-f48e7974a480 button.colab-df-convert');\n",
              "        buttonEl.style.display =\n",
              "          google.colab.kernel.accessAllowed ? 'block' : 'none';\n",
              "\n",
              "        async function convertToInteractive(key) {\n",
              "          const element = document.querySelector('#df-4d75c413-c19c-4966-b947-f48e7974a480');\n",
              "          const dataTable =\n",
              "            await google.colab.kernel.invokeFunction('convertToInteractive',\n",
              "                                                     [key], {});\n",
              "          if (!dataTable) return;\n",
              "\n",
              "          const docLinkHtml = 'Like what you see? Visit the ' +\n",
              "            '<a target=\"_blank\" href=https://colab.research.google.com/notebooks/data_table.ipynb>data table notebook</a>'\n",
              "            + ' to learn more about interactive tables.';\n",
              "          element.innerHTML = '';\n",
              "          dataTable['output_type'] = 'display_data';\n",
              "          await google.colab.output.renderOutput(dataTable, element);\n",
              "          const docLink = document.createElement('div');\n",
              "          docLink.innerHTML = docLinkHtml;\n",
              "          element.appendChild(docLink);\n",
              "        }\n",
              "      </script>\n",
              "    </div>\n",
              "  </div>\n",
              "  "
            ]
          },
          "metadata": {},
          "execution_count": 5
        }
      ]
    },
    {
      "cell_type": "code",
      "source": [
        "# Get the size of dataset.\n",
        "df.size"
      ],
      "metadata": {
        "colab": {
          "base_uri": "https://localhost:8080/"
        },
        "id": "3BHzlhHjsuoA",
        "outputId": "aa561203-f29c-4267-8d6f-64258ca32802"
      },
      "execution_count": 6,
      "outputs": [
        {
          "output_type": "execute_result",
          "data": {
            "text/plain": [
              "232584"
            ]
          },
          "metadata": {},
          "execution_count": 6
        }
      ]
    },
    {
      "cell_type": "code",
      "source": [
        "# Get the shape of the dataset.\n",
        "df.shape"
      ],
      "metadata": {
        "colab": {
          "base_uri": "https://localhost:8080/"
        },
        "id": "zOVodi-Hs68s",
        "outputId": "641e64d9-c478-4d3a-9918-f09ab50c40e6"
      },
      "execution_count": 7,
      "outputs": [
        {
          "output_type": "execute_result",
          "data": {
            "text/plain": [
              "(19382, 12)"
            ]
          },
          "metadata": {},
          "execution_count": 7
        }
      ]
    },
    {
      "cell_type": "code",
      "source": [
        "# Get the fetures' name of the dataframe.\n",
        "df.columns"
      ],
      "metadata": {
        "colab": {
          "base_uri": "https://localhost:8080/"
        },
        "id": "GGzoyueHtAKS",
        "outputId": "401335c7-4c55-43cc-baaf-0ad36aa6c36b"
      },
      "execution_count": 8,
      "outputs": [
        {
          "output_type": "execute_result",
          "data": {
            "text/plain": [
              "Index(['#', 'claim_status', 'video_id', 'video_duration_sec',\n",
              "       'video_transcription_text', 'verified_status', 'author_ban_status',\n",
              "       'video_view_count', 'video_like_count', 'video_share_count',\n",
              "       'video_download_count', 'video_comment_count'],\n",
              "      dtype='object')"
            ]
          },
          "metadata": {},
          "execution_count": 8
        }
      ]
    },
    {
      "cell_type": "markdown",
      "source": [
        "#### Check and Handle the Null and Duplicated Values"
      ],
      "metadata": {
        "id": "rSVJMKHgbkKo"
      }
    },
    {
      "cell_type": "code",
      "source": [
        "# Check the number of null values in each features.\n",
        "df.isnull().sum()"
      ],
      "metadata": {
        "colab": {
          "base_uri": "https://localhost:8080/"
        },
        "id": "ekYy85XDbkX9",
        "outputId": "c475dddb-3537-423d-f4ae-2ac6af58e2a9"
      },
      "execution_count": 9,
      "outputs": [
        {
          "output_type": "execute_result",
          "data": {
            "text/plain": [
              "#                             0\n",
              "claim_status                298\n",
              "video_id                      0\n",
              "video_duration_sec            0\n",
              "video_transcription_text    298\n",
              "verified_status               0\n",
              "author_ban_status             0\n",
              "video_view_count            298\n",
              "video_like_count            298\n",
              "video_share_count           298\n",
              "video_download_count        298\n",
              "video_comment_count         298\n",
              "dtype: int64"
            ]
          },
          "metadata": {},
          "execution_count": 9
        }
      ]
    },
    {
      "cell_type": "code",
      "source": [
        "# Get the proportion of the rows which contain null values.\n",
        "print(\"There are {:.2%} of rows contain null values\".format(df.isnull().sum().max() / df.shape[0]))"
      ],
      "metadata": {
        "colab": {
          "base_uri": "https://localhost:8080/"
        },
        "id": "VkhRcEpIbkdi",
        "outputId": "593cd9c4-6aa8-41b1-9aed-6406f07d937f"
      },
      "execution_count": 10,
      "outputs": [
        {
          "output_type": "stream",
          "name": "stdout",
          "text": [
            "There are 1.54% of rows contain null values\n"
          ]
        }
      ]
    },
    {
      "cell_type": "markdown",
      "source": [
        "*Observation: Not too many rows have null values. It's safe to remove all the rows with null values.*"
      ],
      "metadata": {
        "id": "0mDJjRWVbkji"
      }
    },
    {
      "cell_type": "code",
      "source": [
        "# Remove all the rows which contains null values.\n",
        "df.dropna(axis=0, inplace=True)"
      ],
      "metadata": {
        "id": "lgCkqGM2bkod"
      },
      "execution_count": 11,
      "outputs": []
    },
    {
      "cell_type": "code",
      "source": [
        "# Recheck the null value info.\n",
        "df.isnull().sum()"
      ],
      "metadata": {
        "colab": {
          "base_uri": "https://localhost:8080/"
        },
        "id": "iW9VHYxlbktX",
        "outputId": "d5290f77-8ab2-48f0-9fd1-2b787b2028ff"
      },
      "execution_count": 12,
      "outputs": [
        {
          "output_type": "execute_result",
          "data": {
            "text/plain": [
              "#                           0\n",
              "claim_status                0\n",
              "video_id                    0\n",
              "video_duration_sec          0\n",
              "video_transcription_text    0\n",
              "verified_status             0\n",
              "author_ban_status           0\n",
              "video_view_count            0\n",
              "video_like_count            0\n",
              "video_share_count           0\n",
              "video_download_count        0\n",
              "video_comment_count         0\n",
              "dtype: int64"
            ]
          },
          "metadata": {},
          "execution_count": 12
        }
      ]
    },
    {
      "cell_type": "code",
      "source": [
        "# Check duplicated rows.\n",
        "df.duplicated().sum()"
      ],
      "metadata": {
        "colab": {
          "base_uri": "https://localhost:8080/"
        },
        "id": "1r0KvMDSDLS-",
        "outputId": "7654091c-df31-45d6-8e38-aee95f647650"
      },
      "execution_count": 13,
      "outputs": [
        {
          "output_type": "execute_result",
          "data": {
            "text/plain": [
              "0"
            ]
          },
          "metadata": {},
          "execution_count": 13
        }
      ]
    },
    {
      "cell_type": "markdown",
      "source": [
        "*Observation: No duplicated row exits.*"
      ],
      "metadata": {
        "id": "Q-SeLSoKDVEn"
      }
    },
    {
      "cell_type": "markdown",
      "source": [
        "#### Drop the unrelated features."
      ],
      "metadata": {
        "id": "e25hr8ZyE1mU"
      }
    },
    {
      "cell_type": "code",
      "source": [
        "# Drop the # and video_id columns.\n",
        "df.drop(axis=1, columns=['#', 'video_id'], inplace=True)"
      ],
      "metadata": {
        "id": "EtEmteD3FEuH"
      },
      "execution_count": 14,
      "outputs": []
    },
    {
      "cell_type": "markdown",
      "source": [
        "### Features Investigation & Processing"
      ],
      "metadata": {
        "id": "B40cbl5DAu4l"
      }
    },
    {
      "cell_type": "markdown",
      "source": [
        "#### Single Feature Analysis\n",
        "In this step, we will investigate the main numerical and categorical features."
      ],
      "metadata": {
        "id": "NP2gwTmJuBwW"
      }
    },
    {
      "cell_type": "markdown",
      "source": [
        "##### Outlier Detection"
      ],
      "metadata": {
        "id": "FRTCQliDER6-"
      }
    },
    {
      "cell_type": "code",
      "source": [
        "# Create box plot of the video duration.\n",
        "plt.figure(figsize=(5,1))\n",
        "plt.title('video_duration_sec box plot')\n",
        "sns.boxplot(x=df['video_duration_sec'])"
      ],
      "metadata": {
        "colab": {
          "base_uri": "https://localhost:8080/",
          "height": 196
        },
        "id": "BepeaSDIuG4X",
        "outputId": "60df6281-1298-4238-8daf-aa6f8fa7a2d4"
      },
      "execution_count": 15,
      "outputs": [
        {
          "output_type": "execute_result",
          "data": {
            "text/plain": [
              "<Axes: title={'center': 'video_duration_sec box plot'}, xlabel='video_duration_sec'>"
            ]
          },
          "metadata": {},
          "execution_count": 15
        },
        {
          "output_type": "display_data",
          "data": {
            "text/plain": [
              "<Figure size 500x100 with 1 Axes>"
            ],
            "image/png": "[encoded data removed]"
          },
          "metadata": {}
        }
      ]
    },
    {
      "cell_type": "code",
      "source": [
        "# Create a histogram to show the distribution of video duration.\n",
        "plt.figure(figsize=(5,3))\n",
        "plt.title(\"video_duration_sec distribution histogram\")\n",
        "sns.histplot(df['video_duration_sec'])"
      ],
      "metadata": {
        "colab": {
          "base_uri": "https://localhost:8080/",
          "height": 350
        },
        "id": "7vGGmmzeuG_U",
        "outputId": "bbbfa9de-6879-4574-e0c8-9efe6b286755"
      },
      "execution_count": 16,
      "outputs": [
        {
          "output_type": "execute_result",
          "data": {
            "text/plain": [
              "<Axes: title={'center': 'video_duration_sec distribution histogram'}, xlabel='video_duration_sec', ylabel='Count'>"
            ]
          },
          "metadata": {},
          "execution_count": 16
        },
        {
          "output_type": "display_data",
          "data": {
            "text/plain": [
              "<Figure size 500x300 with 1 Axes>"
            ],
            "image/png": "[encoded data removed]"
          },
          "metadata": {}
        }
      ]
    },
    {
      "cell_type": "markdown",
      "source": [
        "*Observation: The video duration has a uniform distribution.*"
      ],
      "metadata": {
        "id": "6tr0XXj5uHGY"
      }
    },
    {
      "cell_type": "code",
      "source": [
        "# Create box plot of the video view count.\n",
        "plt.figure(figsize=(5,1))\n",
        "plt.title('video_view_count box plot')\n",
        "sns.boxplot(x=df['video_view_count'])"
      ],
      "metadata": {
        "colab": {
          "base_uri": "https://localhost:8080/",
          "height": 196
        },
        "id": "Frx9vIM1uHNw",
        "outputId": "6c1ec042-a0bc-457d-8f50-f4d3ae55a346"
      },
      "execution_count": 17,
      "outputs": [
        {
          "output_type": "execute_result",
          "data": {
            "text/plain": [
              "<Axes: title={'center': 'video_view_count box plot'}, xlabel='video_view_count'>"
            ]
          },
          "metadata": {},
          "execution_count": 17
        },
        {
          "output_type": "display_data",
          "data": {
            "text/plain": [
              "<Figure size 500x100 with 1 Axes>"
            ],
            "image/png": "[encoded data removed]"
          },
          "metadata": {}
        }
      ]
    },
    {
      "cell_type": "code",
      "source": [
        "# Create a histogram to show the distribution of video view count.\n",
        "plt.figure(figsize=(5,3))\n",
        "plt.title(\"video_view_count distribution histogram\")\n",
        "sns.histplot(df['video_view_count'])"
      ],
      "metadata": {
        "colab": {
          "base_uri": "https://localhost:8080/",
          "height": 350
        },
        "id": "6EP-0kz4uHVl",
        "outputId": "695ba9f0-1968-4411-d385-41174d3b3b2c"
      },
      "execution_count": 18,
      "outputs": [
        {
          "output_type": "execute_result",
          "data": {
            "text/plain": [
              "<Axes: title={'center': 'video_view_count distribution histogram'}, xlabel='video_view_count', ylabel='Count'>"
            ]
          },
          "metadata": {},
          "execution_count": 18
        },
        {
          "output_type": "display_data",
          "data": {
            "text/plain": [
              "<Figure size 500x300 with 1 Axes>"
            ],
            "image/png": "[encoded data removed]"
          },
          "metadata": {}
        }
      ]
    },
    {
      "cell_type": "code",
      "source": [
        "# Create box plot of the video like count.\n",
        "plt.figure(figsize=(5,1))\n",
        "plt.title('video_like_count box plot')\n",
        "sns.boxplot(x=df['video_like_count'])"
      ],
      "metadata": {
        "colab": {
          "base_uri": "https://localhost:8080/",
          "height": 196
        },
        "id": "3yAWfQ_kxDQf",
        "outputId": "8545ec20-db63-43dd-8b1f-8439945bb11e"
      },
      "execution_count": 19,
      "outputs": [
        {
          "output_type": "execute_result",
          "data": {
            "text/plain": [
              "<Axes: title={'center': 'video_like_count box plot'}, xlabel='video_like_count'>"
            ]
          },
          "metadata": {},
          "execution_count": 19
        },
        {
          "output_type": "display_data",
          "data": {
            "text/plain": [
              "<Figure size 500x100 with 1 Axes>"
            ],
            "image/png": "[encoded data removed]"
          },
          "metadata": {}
        }
      ]
    },
    {
      "cell_type": "code",
      "source": [
        "# Create a histogram to show the distribution of video like count.\n",
        "plt.figure(figsize=(5,3))\n",
        "plt.title(\"video_like_count distribution histogram\")\n",
        "sns.histplot(df['video_like_count'])"
      ],
      "metadata": {
        "colab": {
          "base_uri": "https://localhost:8080/",
          "height": 350
        },
        "id": "1GK1-0MFxDXL",
        "outputId": "233bc0ce-daaa-4887-baf2-282d67da00e9"
      },
      "execution_count": 20,
      "outputs": [
        {
          "output_type": "execute_result",
          "data": {
            "text/plain": [
              "<Axes: title={'center': 'video_like_count distribution histogram'}, xlabel='video_like_count', ylabel='Count'>"
            ]
          },
          "metadata": {},
          "execution_count": 20
        },
        {
          "output_type": "display_data",
          "data": {
            "text/plain": [
              "<Figure size 500x300 with 1 Axes>"
            ],
            "image/png": "[encoded data removed]"
          },
          "metadata": {}
        }
      ]
    },
    {
      "cell_type": "code",
      "source": [
        "# Create box plot of the video comment count.\n",
        "plt.figure(figsize=(5,1))\n",
        "plt.title('video_comment_count box plot')\n",
        "sns.boxplot(x=df['video_comment_count'])"
      ],
      "metadata": {
        "colab": {
          "base_uri": "https://localhost:8080/",
          "height": 196
        },
        "id": "my2hnWu4xDjf",
        "outputId": "95b303d7-8d92-4a08-c26b-1e6467690695"
      },
      "execution_count": 21,
      "outputs": [
        {
          "output_type": "execute_result",
          "data": {
            "text/plain": [
              "<Axes: title={'center': 'video_comment_count box plot'}, xlabel='video_comment_count'>"
            ]
          },
          "metadata": {},
          "execution_count": 21
        },
        {
          "output_type": "display_data",
          "data": {
            "text/plain": [
              "<Figure size 500x100 with 1 Axes>"
            ],
            "image/png": "[encoded data removed]"
          },
          "metadata": {}
        }
      ]
    },
    {
      "cell_type": "code",
      "source": [
        "# Create a histogram to show the distribution of video comment count.\n",
        "plt.figure(figsize=(5,3))\n",
        "plt.title(\"video_comment_count distribution histogram\")\n",
        "sns.histplot(df['video_comment_count'])"
      ],
      "metadata": {
        "colab": {
          "base_uri": "https://localhost:8080/",
          "height": 350
        },
        "id": "oZQQ1MnBxDpy",
        "outputId": "e103f5b3-8015-4562-dd6f-c6a467938e00"
      },
      "execution_count": 22,
      "outputs": [
        {
          "output_type": "execute_result",
          "data": {
            "text/plain": [
              "<Axes: title={'center': 'video_comment_count distribution histogram'}, xlabel='video_comment_count', ylabel='Count'>"
            ]
          },
          "metadata": {},
          "execution_count": 22
        },
        {
          "output_type": "display_data",
          "data": {
            "text/plain": [
              "<Figure size 500x300 with 1 Axes>"
            ],
            "image/png": "[encoded data removed]"
          },
          "metadata": {}
        }
      ]
    },
    {
      "cell_type": "code",
      "source": [
        "# Create box plot of the video download count.\n",
        "plt.figure(figsize=(5,1))\n",
        "plt.title('video_download_count box plot')\n",
        "sns.boxplot(x=df['video_download_count'])"
      ],
      "metadata": {
        "colab": {
          "base_uri": "https://localhost:8080/",
          "height": 196
        },
        "id": "j8qWxLWgxDvw",
        "outputId": "8c5e17db-633a-4531-faf5-ad77c850e5fb"
      },
      "execution_count": 23,
      "outputs": [
        {
          "output_type": "execute_result",
          "data": {
            "text/plain": [
              "<Axes: title={'center': 'video_download_count box plot'}, xlabel='video_download_count'>"
            ]
          },
          "metadata": {},
          "execution_count": 23
        },
        {
          "output_type": "display_data",
          "data": {
            "text/plain": [
              "<Figure size 500x100 with 1 Axes>"
            ],
            "image/png": "[encoded data removed]"
          },
          "metadata": {}
        }
      ]
    },
    {
      "cell_type": "code",
      "source": [
        "# Create a histogram to show the distribution of video_download_count.\n",
        "plt.figure(figsize=(5,3))\n",
        "plt.title(\"video_download_count distribution histogram\")\n",
        "sns.histplot(df['video_download_count'])"
      ],
      "metadata": {
        "colab": {
          "base_uri": "https://localhost:8080/",
          "height": 350
        },
        "id": "_ifZehAbxD2g",
        "outputId": "9c207f97-57ea-4cc9-d26a-9ed0251f6102"
      },
      "execution_count": 24,
      "outputs": [
        {
          "output_type": "execute_result",
          "data": {
            "text/plain": [
              "<Axes: title={'center': 'video_download_count distribution histogram'}, xlabel='video_download_count', ylabel='Count'>"
            ]
          },
          "metadata": {},
          "execution_count": 24
        },
        {
          "output_type": "display_data",
          "data": {
            "text/plain": [
              "<Figure size 500x300 with 1 Axes>"
            ],
            "image/png": "[encoded data removed]"
          },
          "metadata": {}
        }
      ]
    },
    {
      "cell_type": "markdown",
      "source": [
        "*Observation: For all of the engagement features, the vast majority of vedios are grouped at the bottom. The distributions is extream right-skewed.*"
      ],
      "metadata": {
        "id": "6Ihqu6g38dgn"
      }
    },
    {
      "cell_type": "code",
      "source": [
        "# Check the balance of the claim_status.\n",
        "df['claim_status'].value_counts(normalize=True)"
      ],
      "metadata": {
        "colab": {
          "base_uri": "https://localhost:8080/"
        },
        "id": "NRmj_2bo9xfx",
        "outputId": "3b9e22cd-c511-4282-ec8a-697975532214"
      },
      "execution_count": 25,
      "outputs": [
        {
          "output_type": "execute_result",
          "data": {
            "text/plain": [
              "claim      0.503458\n",
              "opinion    0.496542\n",
              "Name: claim_status, dtype: float64"
            ]
          },
          "metadata": {},
          "execution_count": 25
        }
      ]
    },
    {
      "cell_type": "markdown",
      "source": [
        "*Observation: The counts of each claims are quit balanced.*"
      ],
      "metadata": {
        "id": "kEfdOdzG9o5j"
      }
    },
    {
      "cell_type": "code",
      "source": [
        "# Check the categorical features.\n",
        "df['verified_status'].value_counts(normalize=True)"
      ],
      "metadata": {
        "colab": {
          "base_uri": "https://localhost:8080/"
        },
        "id": "2eeisCF69ldr",
        "outputId": "6708ecb7-4626-4cc7-a379-7c18587cc530"
      },
      "execution_count": 26,
      "outputs": [
        {
          "output_type": "execute_result",
          "data": {
            "text/plain": [
              "not verified    0.93712\n",
              "verified        0.06288\n",
              "Name: verified_status, dtype: float64"
            ]
          },
          "metadata": {},
          "execution_count": 26
        }
      ]
    },
    {
      "cell_type": "markdown",
      "source": [
        "*Observation: The verified status feture is extream unbalanced.*"
      ],
      "metadata": {
        "id": "AW8_mh4UFhT-"
      }
    },
    {
      "cell_type": "code",
      "source": [
        "df['author_ban_status'].value_counts(normalize=True)"
      ],
      "metadata": {
        "colab": {
          "base_uri": "https://localhost:8080/"
        },
        "id": "-tPOp4InF6g2",
        "outputId": "3e07749d-5abb-48d9-9282-8c62e6108431"
      },
      "execution_count": 27,
      "outputs": [
        {
          "output_type": "execute_result",
          "data": {
            "text/plain": [
              "active          0.806068\n",
              "under review    0.108258\n",
              "banned          0.085674\n",
              "Name: author_ban_status, dtype: float64"
            ]
          },
          "metadata": {},
          "execution_count": 27
        }
      ]
    },
    {
      "cell_type": "markdown",
      "source": [
        "*Observation: Vast major of videos' status are active.*"
      ],
      "metadata": {
        "id": "AVl566o5GPAD"
      }
    },
    {
      "cell_type": "markdown",
      "source": [
        "##### Determine how to handle the outliers.\n",
        "According to the outlier count calculation above. The counts of outliers in each engagement feature are similar.\n",
        "\n",
        "What I'm going to do is calculating the proportion of the outliers of the biggest number among all the engagement features.\n",
        "\n",
        "Then determine how to process the outliers."
      ],
      "metadata": {
        "id": "K5VJjjx0PNhb"
      }
    },
    {
      "cell_type": "markdown",
      "source": [
        "##### Determine outlier count of each engagement feature."
      ],
      "metadata": {
        "id": "6qGvsgDKcwts"
      }
    },
    {
      "cell_type": "code",
      "source": [
        "# Create a engagement column list.\n",
        "cols = ['video_view_count',\n",
        "              'video_like_count',\n",
        "              'video_share_count',\n",
        "              'video_download_count',\n",
        "              'video_comment_count',\n",
        "              ]"
      ],
      "metadata": {
        "id": "45W6w5ZzK8oc"
      },
      "execution_count": 28,
      "outputs": []
    },
    {
      "cell_type": "code",
      "source": [
        "# Print the number of outlier in each engagement features.\n",
        "for col in cols:\n",
        "  q1 = df[col].quantile(0.25)\n",
        "  q3 = df[col].quantile(0.75)\n",
        "  iqr = q3 - q1\n",
        "  median = df[col].median()\n",
        "  lower_outlier_threshold = median - 1.5*iqr\n",
        "  upper_outlier_threshold = median + 1.5*iqr\n",
        "  total_outlier_cnt = (df[col] > upper_outlier_threshold).sum() + (df[col] < lower_outlier_threshold).sum()\n",
        "  print(\"The number of outliers in {} is {}\".format(col, total_outlier_cnt))"
      ],
      "metadata": {
        "colab": {
          "base_uri": "https://localhost:8080/"
        },
        "id": "nqoVh1vpLOqE",
        "outputId": "893ffdd3-a42d-44fb-c192-75c20bd5af54"
      },
      "execution_count": 29,
      "outputs": [
        {
          "output_type": "stream",
          "name": "stdout",
          "text": [
            "The number of outliers in video_view_count is 2343\n",
            "The number of outliers in video_like_count is 3468\n",
            "The number of outliers in video_share_count is 3732\n",
            "The number of outliers in video_download_count is 3733\n",
            "The number of outliers in video_comment_count is 3882\n"
          ]
        }
      ]
    },
    {
      "cell_type": "code",
      "source": [
        "# Calculate the proportion of the biggest count.\n",
        "out_prop = ((df['video_comment_count'] > upper_outlier_threshold).sum() + (df['video_comment_count'] < lower_outlier_threshold).sum()) / df.shape[0]\n",
        "print(\"The proportion of the ourliers biggest count is: {:.2%}\".format(out_prop))"
      ],
      "metadata": {
        "colab": {
          "base_uri": "https://localhost:8080/"
        },
        "id": "fYFFkNTq3yDt",
        "outputId": "73ffca3e-8886-4475-cb46-2cb28f8c3b1c"
      },
      "execution_count": 30,
      "outputs": [
        {
          "output_type": "stream",
          "name": "stdout",
          "text": [
            "The proportion of the ourliers biggest count is: 20.34%\n"
          ]
        }
      ]
    },
    {
      "cell_type": "markdown",
      "source": [
        "*Observation: According to the calculation above, there are more than 20% of rows can be recgnized as outliers. In this case, it's not a good idea to remove all the outliers. On this step, I'm going to keep them in the dataframe.*"
      ],
      "metadata": {
        "id": "wxbqdqXd66sF"
      }
    },
    {
      "cell_type": "markdown",
      "source": [
        "#### Multi-Features Analysis\n",
        "At this step, we will investigate the impact among different features."
      ],
      "metadata": {
        "id": "u1xUtxBE9lkB"
      }
    },
    {
      "cell_type": "markdown",
      "source": [
        "##### claim_status VS all engagement fetures."
      ],
      "metadata": {
        "id": "PqXqDr26jvr0"
      }
    },
    {
      "cell_type": "code",
      "source": [
        "# Get the mean and median of each numerical features group by the author ban status.\n",
        "df.groupby('claim_status').agg({'video_duration_sec':['mean','median'],\n",
        "                                     'video_view_count':['mean','median'],\n",
        "                                     'video_like_count':['mean','median'],\n",
        "                                     'video_share_count':['mean','median'],\n",
        "                                     'video_download_count':['mean','median'],\n",
        "                                     'video_comment_count':['mean','median']})"
      ],
      "metadata": {
        "colab": {
          "base_uri": "https://localhost:8080/",
          "height": 218
        },
        "id": "RPGBsKXnB5XE",
        "outputId": "ba56efee-9518-4b07-de62-a360e27da445"
      },
      "execution_count": 31,
      "outputs": [
        {
          "output_type": "execute_result",
          "data": {
            "text/plain": [
              "             video_duration_sec        video_view_count            \\\n",
              "                           mean median             mean    median   \n",
              "claim_status                                                        \n",
              "claim                 32.486886   32.0    501029.452748  501555.0   \n",
              "opinion               32.359856   32.0      4956.432250    4953.0   \n",
              "\n",
              "             video_like_count           video_share_count           \\\n",
              "                         mean    median              mean   median   \n",
              "claim_status                                                         \n",
              "claim           166373.331182  123649.0      33026.416216  17997.5   \n",
              "opinion           1092.729844     823.0        217.145631    121.0   \n",
              "\n",
              "             video_download_count         video_comment_count         \n",
              "                             mean  median                mean median  \n",
              "claim_status                                                          \n",
              "claim                 2070.952227  1139.5          691.164863  286.0  \n",
              "opinion                 13.677290     7.0            2.697446    1.0  "
            ],
            "text/html": [
              "\n",
              "  <div id=\"df-29ca7a38-3f43-4b61-a56a-82909353ed49\">\n",
              "    <div class=\"colab-df-container\">\n",
              "      <div>\n",
              "<style scoped>\n",
              "    .dataframe tbody tr th:only-of-type {\n",
              "        vertical-align: middle;\n",
              "    }\n",
              "\n",
              "    .dataframe tbody tr th {\n",
              "        vertical-align: top;\n",
              "    }\n",
              "\n",
              "    .dataframe thead tr th {\n",
              "        text-align: left;\n",
              "    }\n",
              "\n",
              "    .dataframe thead tr:last-of-type th {\n",
              "        text-align: right;\n",
              "    }\n",
              "</style>\n",
              "<table border=\"1\" class=\"dataframe\">\n",
              "  <thead>\n",
              "    <tr>\n",
              "      <th></th>\n",
              "      <th colspan=\"2\" halign=\"left\">video_duration_sec</th>\n",
              "      <th colspan=\"2\" halign=\"left\">video_view_count</th>\n",
              "      <th colspan=\"2\" halign=\"left\">video_like_count</th>\n",
              "      <th colspan=\"2\" halign=\"left\">video_share_count</th>\n",
              "      <th colspan=\"2\" halign=\"left\">video_download_count</th>\n",
              "      <th colspan=\"2\" halign=\"left\">video_comment_count</th>\n",
              "    </tr>\n",
              "    <tr>\n",
              "      <th></th>\n",
              "      <th>mean</th>\n",
              "      <th>median</th>\n",
              "      <th>mean</th>\n",
              "      <th>median</th>\n",
              "      <th>mean</th>\n",
              "      <th>median</th>\n",
              "      <th>mean</th>\n",
              "      <th>median</th>\n",
              "      <th>mean</th>\n",
              "      <th>median</th>\n",
              "      <th>mean</th>\n",
              "      <th>median</th>\n",
              "    </tr>\n",
              "    <tr>\n",
              "      <th>claim_status</th>\n",
              "      <th></th>\n",
              "      <th></th>\n",
              "      <th></th>\n",
              "      <th></th>\n",
              "      <th></th>\n",
              "      <th></th>\n",
              "      <th></th>\n",
              "      <th></th>\n",
              "      <th></th>\n",
              "      <th></th>\n",
              "      <th></th>\n",
              "      <th></th>\n",
              "    </tr>\n",
              "  </thead>\n",
              "  <tbody>\n",
              "    <tr>\n",
              "      <th>claim</th>\n",
              "      <td>32.486886</td>\n",
              "      <td>32.0</td>\n",
              "      <td>501029.452748</td>\n",
              "      <td>501555.0</td>\n",
              "      <td>166373.331182</td>\n",
              "      <td>123649.0</td>\n",
              "      <td>33026.416216</td>\n",
              "      <td>17997.5</td>\n",
              "      <td>2070.952227</td>\n",
              "      <td>1139.5</td>\n",
              "      <td>691.164863</td>\n",
              "      <td>286.0</td>\n",
              "    </tr>\n",
              "    <tr>\n",
              "      <th>opinion</th>\n",
              "      <td>32.359856</td>\n",
              "      <td>32.0</td>\n",
              "      <td>4956.432250</td>\n",
              "      <td>4953.0</td>\n",
              "      <td>1092.729844</td>\n",
              "      <td>823.0</td>\n",
              "      <td>217.145631</td>\n",
              "      <td>121.0</td>\n",
              "      <td>13.677290</td>\n",
              "      <td>7.0</td>\n",
              "      <td>2.697446</td>\n",
              "      <td>1.0</td>\n",
              "    </tr>\n",
              "  </tbody>\n",
              "</table>\n",
              "</div>\n",
              "      <button class=\"colab-df-convert\" onclick=\"convertToInteractive('df-29ca7a38-3f43-4b61-a56a-82909353ed49')\"\n",
              "              title=\"Convert this dataframe to an interactive table.\"\n",
              "              style=\"display:none;\">\n",
              "        \n",
              "  <svg xmlns=\"http://www.w3.org/2000/svg\" height=\"24px\"viewBox=\"0 0 24 24\"\n",
              "       width=\"24px\">\n",
              "    <path d=\"M0 0h24v24H0V0z\" fill=\"none\"/>\n",
              "    <path d=\"M18.56 5.44l.94 2.06.94-2.06 2.06-.94-2.06-.94-.94-2.06-.94 2.06-2.06.94zm-11 1L8.5 8.5l.94-2.06 2.06-.94-2.06-.94L8.5 2.5l-.94 2.06-2.06.94zm10 10l.94 2.06.94-2.06 2.06-.94-2.06-.94-.94-2.06-.94 2.06-2.06.94z\"/><path d=\"M17.41 7.96l-1.37-1.37c-.4-.4-.92-.59-1.43-.59-.52 0-1.04.2-1.43.59L10.3 9.45l-7.72 7.72c-.78.78-.78 2.05 0 2.83L4 21.41c.39.39.9.59 1.41.59.51 0 1.02-.2 1.41-.59l7.78-7.78 2.81-2.81c.8-.78.8-2.07 0-2.86zM5.41 20L4 18.59l7.72-7.72 1.47 1.35L5.41 20z\"/>\n",
              "  </svg>\n",
              "      </button>\n",
              "      \n",
              "  <style>\n",
              "    .colab-df-container {\n",
              "      display:flex;\n",
              "      flex-wrap:wrap;\n",
              "      gap: 12px;\n",
              "    }\n",
              "\n",
              "    .colab-df-convert {\n",
              "      background-color: #E8F0FE;\n",
              "      border: none;\n",
              "      border-radius: 50%;\n",
              "      cursor: pointer;\n",
              "      display: none;\n",
              "      fill: #1967D2;\n",
              "      height: 32px;\n",
              "      padding: 0 0 0 0;\n",
              "      width: 32px;\n",
              "    }\n",
              "\n",
              "    .colab-df-convert:hover {\n",
              "      background-color: #E2EBFA;\n",
              "      box-shadow: 0px 1px 2px rgba(60, 64, 67, 0.3), 0px 1px 3px 1px rgba(60, 64, 67, 0.15);\n",
              "      fill: #174EA6;\n",
              "    }\n",
              "\n",
              "    [theme=dark] .colab-df-convert {\n",
              "      background-color: #3B4455;\n",
              "      fill: #D2E3FC;\n",
              "    }\n",
              "\n",
              "    [theme=dark] .colab-df-convert:hover {\n",
              "      background-color: #434B5C;\n",
              "      box-shadow: 0px 1px 3px 1px rgba(0, 0, 0, 0.15);\n",
              "      filter: drop-shadow(0px 1px 2px rgba(0, 0, 0, 0.3));\n",
              "      fill: #FFFFFF;\n",
              "    }\n",
              "  </style>\n",
              "\n",
              "      <script>\n",
              "        const buttonEl =\n",
              "          document.querySelector('#df-29ca7a38-3f43-4b61-a56a-82909353ed49 button.colab-df-convert');\n",
              "        buttonEl.style.display =\n",
              "          google.colab.kernel.accessAllowed ? 'block' : 'none';\n",
              "\n",
              "        async function convertToInteractive(key) {\n",
              "          const element = document.querySelector('#df-29ca7a38-3f43-4b61-a56a-82909353ed49');\n",
              "          const dataTable =\n",
              "            await google.colab.kernel.invokeFunction('convertToInteractive',\n",
              "                                                     [key], {});\n",
              "          if (!dataTable) return;\n",
              "\n",
              "          const docLinkHtml = 'Like what you see? Visit the ' +\n",
              "            '<a target=\"_blank\" href=https://colab.research.google.com/notebooks/data_table.ipynb>data table notebook</a>'\n",
              "            + ' to learn more about interactive tables.';\n",
              "          element.innerHTML = '';\n",
              "          dataTable['output_type'] = 'display_data';\n",
              "          await google.colab.output.renderOutput(dataTable, element);\n",
              "          const docLink = document.createElement('div');\n",
              "          docLink.innerHTML = docLinkHtml;\n",
              "          element.appendChild(docLink);\n",
              "        }\n",
              "      </script>\n",
              "    </div>\n",
              "  </div>\n",
              "  "
            ]
          },
          "metadata": {},
          "execution_count": 31
        }
      ]
    },
    {
      "cell_type": "markdown",
      "source": [
        "*Observation: There is a significate different engagement trend between different claim status. \"claim\" has more engagement than \"opinion\". The claim status may have a strong corelation with the different count features.*"
      ],
      "metadata": {
        "id": "Af3XlsqGL3hl"
      }
    },
    {
      "cell_type": "markdown",
      "source": [
        "*Observation: There is no significant corelation between claim status and video duration. However, there are far more engagement count for the videos with the 'claim' status.*"
      ],
      "metadata": {
        "id": "lwGaaaxcM_WT"
      }
    },
    {
      "cell_type": "markdown",
      "source": [
        "##### claim_status VS verified_status"
      ],
      "metadata": {
        "id": "MvCsVNm6kHQE"
      }
    },
    {
      "cell_type": "code",
      "source": [
        "# Get the count number which aggregate by the different claim status and verified status.\n",
        "df.groupby(['claim_status', 'verified_status']).count()['video_view_count']"
      ],
      "metadata": {
        "colab": {
          "base_uri": "https://localhost:8080/"
        },
        "id": "gnHNTDuoGBig",
        "outputId": "7675ee22-60d1-4a70-e1b9-37503d2da59a"
      },
      "execution_count": 32,
      "outputs": [
        {
          "output_type": "execute_result",
          "data": {
            "text/plain": [
              "claim_status  verified_status\n",
              "claim         not verified       9399\n",
              "              verified            209\n",
              "opinion       not verified       8485\n",
              "              verified            991\n",
              "Name: video_view_count, dtype: int64"
            ]
          },
          "metadata": {},
          "execution_count": 32
        }
      ]
    },
    {
      "cell_type": "code",
      "source": [
        "# Plot the count of claim status by verification status.\n",
        "plt.figure(figsize=(7,4))\n",
        "sns.histplot(data=df,\n",
        "             x='claim_status',\n",
        "             hue='verified_status',\n",
        "             multiple='dodge',\n",
        "             shrink=0.9)\n",
        "plt.title('The count of claim status by verification status')"
      ],
      "metadata": {
        "colab": {
          "base_uri": "https://localhost:8080/",
          "height": 427
        },
        "id": "Ck43htP7GgGR",
        "outputId": "15571241-c4a5-407d-eccf-f73cce414239"
      },
      "execution_count": 33,
      "outputs": [
        {
          "output_type": "execute_result",
          "data": {
            "text/plain": [
              "Text(0.5, 1.0, 'The count of claim status by verification status')"
            ]
          },
          "metadata": {},
          "execution_count": 33
        },
        {
          "output_type": "display_data",
          "data": {
            "text/plain": [
              "<Figure size 700x400 with 1 Axes>"
            ],
            "image/png": "[encoded data removed]"
          },
          "metadata": {}
        }
      ]
    },
    {
      "cell_type": "markdown",
      "source": [
        "*Observation: There are far fewer verified users than unverified. And no obvious corelation was found between the claim status and verified status.*"
      ],
      "metadata": {
        "id": "V6r2SQHVK7VO"
      }
    },
    {
      "cell_type": "markdown",
      "source": [
        "##### claim_status VS author_ban_status"
      ],
      "metadata": {
        "id": "Frl0inM8kR3S"
      }
    },
    {
      "cell_type": "code",
      "source": [
        "# Get the count number which aggregate by the different claim status and verified status.\n",
        "df.groupby(['claim_status', 'author_ban_status']).count()['video_view_count']"
      ],
      "metadata": {
        "colab": {
          "base_uri": "https://localhost:8080/"
        },
        "id": "v-fTiQy3JMB0",
        "outputId": "84e4fff0-838c-4c0d-ae89-c5c9d6db4ff3"
      },
      "execution_count": 34,
      "outputs": [
        {
          "output_type": "execute_result",
          "data": {
            "text/plain": [
              "claim_status  author_ban_status\n",
              "claim         active               6566\n",
              "              banned               1439\n",
              "              under review         1603\n",
              "opinion       active               8817\n",
              "              banned                196\n",
              "              under review          463\n",
              "Name: video_view_count, dtype: int64"
            ]
          },
          "metadata": {},
          "execution_count": 34
        }
      ]
    },
    {
      "cell_type": "code",
      "source": [
        "# Plot the count of claim status by ban status.\n",
        "plt.figure(figsize=(7,4))\n",
        "sns.histplot(data=df,\n",
        "             x='claim_status',\n",
        "             hue='author_ban_status',\n",
        "             multiple='dodge',\n",
        "             shrink=0.9)\n",
        "plt.title('The count of claim status by verification status')"
      ],
      "metadata": {
        "colab": {
          "base_uri": "https://localhost:8080/",
          "height": 427
        },
        "id": "k5k8h2VfHjYY",
        "outputId": "eba77140-6f2c-4a7c-ec2d-a816fc05a095"
      },
      "execution_count": 35,
      "outputs": [
        {
          "output_type": "execute_result",
          "data": {
            "text/plain": [
              "Text(0.5, 1.0, 'The count of claim status by verification status')"
            ]
          },
          "metadata": {},
          "execution_count": 35
        },
        {
          "output_type": "display_data",
          "data": {
            "text/plain": [
              "<Figure size 700x400 with 1 Axes>"
            ],
            "image/png": "[encoded data removed]"
          },
          "metadata": {}
        }
      ]
    },
    {
      "cell_type": "markdown",
      "source": [
        "*Observation: For both claim status videos, there are many more active authors than ban and under review ones. If the vedio is a claim one, it is more likely to be banned or under review.*"
      ],
      "metadata": {
        "id": "vUsJq9utJkvj"
      }
    },
    {
      "cell_type": "markdown",
      "source": [
        "##### author_ban_status VS all engagement features"
      ],
      "metadata": {
        "id": "xPQc5F8HkdfP"
      }
    },
    {
      "cell_type": "code",
      "source": [
        "# Get the mean and median of each numerical features group by the author ban status.\n",
        "df.groupby('author_ban_status').agg({'video_duration_sec':['mean','median'],\n",
        "                                     'video_view_count':['mean','median'],\n",
        "                                     'video_like_count':['mean','median'],\n",
        "                                     'video_share_count':['mean','median'],\n",
        "                                     'video_download_count':['mean','median'],\n",
        "                                     'video_comment_count':['mean','median']})"
      ],
      "metadata": {
        "colab": {
          "base_uri": "https://localhost:8080/",
          "height": 270
        },
        "id": "iarXKrIkRcNj",
        "outputId": "be8e1b1c-90f5-4e77-d3ea-bb493b0ac27f"
      },
      "execution_count": 36,
      "outputs": [
        {
          "output_type": "execute_result",
          "data": {
            "text/plain": [
              "                  video_duration_sec        video_view_count            \\\n",
              "                                mean median             mean    median   \n",
              "author_ban_status                                                        \n",
              "active                     32.550933   33.0    215927.039524    8616.0   \n",
              "banned                     32.323547   32.0    445845.439144  448201.0   \n",
              "under review               31.556631   31.0    392204.836399  365245.5   \n",
              "\n",
              "                  video_like_count           video_share_count           \\\n",
              "                              mean    median              mean   median   \n",
              "author_ban_status                                                         \n",
              "active                71036.533836    2222.0      14111.466164    437.0   \n",
              "banned               153017.236697  105573.0      29998.942508  14468.0   \n",
              "under review         128718.050339   71204.5      25774.696999   9444.0   \n",
              "\n",
              "                  video_download_count        video_comment_count         \n",
              "                                  mean median                mean median  \n",
              "author_ban_status                                                         \n",
              "active                      882.276344   28.0          295.134499    5.0  \n",
              "banned                     1886.296024  892.0          614.956575  209.0  \n",
              "under review               1631.734753  610.5          542.480639  136.5  "
            ],
            "text/html": [
              "\n",
              "  <div id=\"df-3bebb99b-6c52-49a8-90bd-4cae7474528d\">\n",
              "    <div class=\"colab-df-container\">\n",
              "      <div>\n",
              "<style scoped>\n",
              "    .dataframe tbody tr th:only-of-type {\n",
              "        vertical-align: middle;\n",
              "    }\n",
              "\n",
              "    .dataframe tbody tr th {\n",
              "        vertical-align: top;\n",
              "    }\n",
              "\n",
              "    .dataframe thead tr th {\n",
              "        text-align: left;\n",
              "    }\n",
              "\n",
              "    .dataframe thead tr:last-of-type th {\n",
              "        text-align: right;\n",
              "    }\n",
              "</style>\n",
              "<table border=\"1\" class=\"dataframe\">\n",
              "  <thead>\n",
              "    <tr>\n",
              "      <th></th>\n",
              "      <th colspan=\"2\" halign=\"left\">video_duration_sec</th>\n",
              "      <th colspan=\"2\" halign=\"left\">video_view_count</th>\n",
              "      <th colspan=\"2\" halign=\"left\">video_like_count</th>\n",
              "      <th colspan=\"2\" halign=\"left\">video_share_count</th>\n",
              "      <th colspan=\"2\" halign=\"left\">video_download_count</th>\n",
              "      <th colspan=\"2\" halign=\"left\">video_comment_count</th>\n",
              "    </tr>\n",
              "    <tr>\n",
              "      <th></th>\n",
              "      <th>mean</th>\n",
              "      <th>median</th>\n",
              "      <th>mean</th>\n",
              "      <th>median</th>\n",
              "      <th>mean</th>\n",
              "      <th>median</th>\n",
              "      <th>mean</th>\n",
              "      <th>median</th>\n",
              "      <th>mean</th>\n",
              "      <th>median</th>\n",
              "      <th>mean</th>\n",
              "      <th>median</th>\n",
              "    </tr>\n",
              "    <tr>\n",
              "      <th>author_ban_status</th>\n",
              "      <th></th>\n",
              "      <th></th>\n",
              "      <th></th>\n",
              "      <th></th>\n",
              "      <th></th>\n",
              "      <th></th>\n",
              "      <th></th>\n",
              "      <th></th>\n",
              "      <th></th>\n",
              "      <th></th>\n",
              "      <th></th>\n",
              "      <th></th>\n",
              "    </tr>\n",
              "  </thead>\n",
              "  <tbody>\n",
              "    <tr>\n",
              "      <th>active</th>\n",
              "      <td>32.550933</td>\n",
              "      <td>33.0</td>\n",
              "      <td>215927.039524</td>\n",
              "      <td>8616.0</td>\n",
              "      <td>71036.533836</td>\n",
              "      <td>2222.0</td>\n",
              "      <td>14111.466164</td>\n",
              "      <td>437.0</td>\n",
              "      <td>882.276344</td>\n",
              "      <td>28.0</td>\n",
              "      <td>295.134499</td>\n",
              "      <td>5.0</td>\n",
              "    </tr>\n",
              "    <tr>\n",
              "      <th>banned</th>\n",
              "      <td>32.323547</td>\n",
              "      <td>32.0</td>\n",
              "      <td>445845.439144</td>\n",
              "      <td>448201.0</td>\n",
              "      <td>153017.236697</td>\n",
              "      <td>105573.0</td>\n",
              "      <td>29998.942508</td>\n",
              "      <td>14468.0</td>\n",
              "      <td>1886.296024</td>\n",
              "      <td>892.0</td>\n",
              "      <td>614.956575</td>\n",
              "      <td>209.0</td>\n",
              "    </tr>\n",
              "    <tr>\n",
              "      <th>under review</th>\n",
              "      <td>31.556631</td>\n",
              "      <td>31.0</td>\n",
              "      <td>392204.836399</td>\n",
              "      <td>365245.5</td>\n",
              "      <td>128718.050339</td>\n",
              "      <td>71204.5</td>\n",
              "      <td>25774.696999</td>\n",
              "      <td>9444.0</td>\n",
              "      <td>1631.734753</td>\n",
              "      <td>610.5</td>\n",
              "      <td>542.480639</td>\n",
              "      <td>136.5</td>\n",
              "    </tr>\n",
              "  </tbody>\n",
              "</table>\n",
              "</div>\n",
              "      <button class=\"colab-df-convert\" onclick=\"convertToInteractive('df-3bebb99b-6c52-49a8-90bd-4cae7474528d')\"\n",
              "              title=\"Convert this dataframe to an interactive table.\"\n",
              "              style=\"display:none;\">\n",
              "        \n",
              "  <svg xmlns=\"http://www.w3.org/2000/svg\" height=\"24px\"viewBox=\"0 0 24 24\"\n",
              "       width=\"24px\">\n",
              "    <path d=\"M0 0h24v24H0V0z\" fill=\"none\"/>\n",
              "    <path d=\"M18.56 5.44l.94 2.06.94-2.06 2.06-.94-2.06-.94-.94-2.06-.94 2.06-2.06.94zm-11 1L8.5 8.5l.94-2.06 2.06-.94-2.06-.94L8.5 2.5l-.94 2.06-2.06.94zm10 10l.94 2.06.94-2.06 2.06-.94-2.06-.94-.94-2.06-.94 2.06-2.06.94z\"/><path d=\"M17.41 7.96l-1.37-1.37c-.4-.4-.92-.59-1.43-.59-.52 0-1.04.2-1.43.59L10.3 9.45l-7.72 7.72c-.78.78-.78 2.05 0 2.83L4 21.41c.39.39.9.59 1.41.59.51 0 1.02-.2 1.41-.59l7.78-7.78 2.81-2.81c.8-.78.8-2.07 0-2.86zM5.41 20L4 18.59l7.72-7.72 1.47 1.35L5.41 20z\"/>\n",
              "  </svg>\n",
              "      </button>\n",
              "      \n",
              "  <style>\n",
              "    .colab-df-container {\n",
              "      display:flex;\n",
              "      flex-wrap:wrap;\n",
              "      gap: 12px;\n",
              "    }\n",
              "\n",
              "    .colab-df-convert {\n",
              "      background-color: #E8F0FE;\n",
              "      border: none;\n",
              "      border-radius: 50%;\n",
              "      cursor: pointer;\n",
              "      display: none;\n",
              "      fill: #1967D2;\n",
              "      height: 32px;\n",
              "      padding: 0 0 0 0;\n",
              "      width: 32px;\n",
              "    }\n",
              "\n",
              "    .colab-df-convert:hover {\n",
              "      background-color: #E2EBFA;\n",
              "      box-shadow: 0px 1px 2px rgba(60, 64, 67, 0.3), 0px 1px 3px 1px rgba(60, 64, 67, 0.15);\n",
              "      fill: #174EA6;\n",
              "    }\n",
              "\n",
              "    [theme=dark] .colab-df-convert {\n",
              "      background-color: #3B4455;\n",
              "      fill: #D2E3FC;\n",
              "    }\n",
              "\n",
              "    [theme=dark] .colab-df-convert:hover {\n",
              "      background-color: #434B5C;\n",
              "      box-shadow: 0px 1px 3px 1px rgba(0, 0, 0, 0.15);\n",
              "      filter: drop-shadow(0px 1px 2px rgba(0, 0, 0, 0.3));\n",
              "      fill: #FFFFFF;\n",
              "    }\n",
              "  </style>\n",
              "\n",
              "      <script>\n",
              "        const buttonEl =\n",
              "          document.querySelector('#df-3bebb99b-6c52-49a8-90bd-4cae7474528d button.colab-df-convert');\n",
              "        buttonEl.style.display =\n",
              "          google.colab.kernel.accessAllowed ? 'block' : 'none';\n",
              "\n",
              "        async function convertToInteractive(key) {\n",
              "          const element = document.querySelector('#df-3bebb99b-6c52-49a8-90bd-4cae7474528d');\n",
              "          const dataTable =\n",
              "            await google.colab.kernel.invokeFunction('convertToInteractive',\n",
              "                                                     [key], {});\n",
              "          if (!dataTable) return;\n",
              "\n",
              "          const docLinkHtml = 'Like what you see? Visit the ' +\n",
              "            '<a target=\"_blank\" href=https://colab.research.google.com/notebooks/data_table.ipynb>data table notebook</a>'\n",
              "            + ' to learn more about interactive tables.';\n",
              "          element.innerHTML = '';\n",
              "          dataTable['output_type'] = 'display_data';\n",
              "          await google.colab.output.renderOutput(dataTable, element);\n",
              "          const docLink = document.createElement('div');\n",
              "          docLink.innerHTML = docLinkHtml;\n",
              "          element.appendChild(docLink);\n",
              "        }\n",
              "      </script>\n",
              "    </div>\n",
              "  </div>\n",
              "  "
            ]
          },
          "metadata": {},
          "execution_count": 36
        }
      ]
    },
    {
      "cell_type": "markdown",
      "source": [
        "*Observation: There is no significant difference of video duration among different author ban status. Videos which are banned or under review have more engagements, including like, share, downliad and comment. In most of the fetures, the mean is far greater than the median, which means some videos have really high engagement count.*"
      ],
      "metadata": {
        "id": "2r0ZjMmsR8T9"
      }
    },
    {
      "cell_type": "markdown",
      "source": [
        "##### verified_status VS video_view_count\n",
        "At this step, I will use Hypothesis Testing to check if verified_status will affect video_view_count number.\n",
        "\n",
        "Firstly, I state the null hypothesis and alternative hypothesis below:\n",
        "\n",
        "\n",
        "*   $H_0$: There is no difference in number of views posted by different verified status account.\n",
        "*   $H_1$: There is difference in number of views posted by different verified status account.\n",
        "\n",
        "Secondly, I define the significant level as $5$%.\n",
        "\n",
        "Then, conduct the testing by using two-sample t-test compare means as follows.\n",
        "\n"
      ],
      "metadata": {
        "id": "gm8aVs6vk71A"
      }
    },
    {
      "cell_type": "code",
      "source": [
        "# Create samples from the dataframs.\n",
        "not_verified_cnt = df[df['verified_status'] == 'not verified']['video_view_count']\n",
        "verified_cnt = df[df['verified_status'] == 'verified']['video_view_count']"
      ],
      "metadata": {
        "id": "rs2zO3Rrk77w"
      },
      "execution_count": 37,
      "outputs": []
    },
    {
      "cell_type": "code",
      "source": [
        "# Import the scipy stats package.\n",
        "from scipy import stats"
      ],
      "metadata": {
        "id": "xfs6twOek8Db"
      },
      "execution_count": 38,
      "outputs": []
    },
    {
      "cell_type": "code",
      "source": [
        "# Conduct t-test.\n",
        "stats.ttest_ind(a=not_verified_cnt, b=verified_cnt, equal_var=False)"
      ],
      "metadata": {
        "colab": {
          "base_uri": "https://localhost:8080/"
        },
        "id": "nkrEMuRAk8K1",
        "outputId": "4ff4a74f-5fb8-4069-aee8-1e7b5600d146"
      },
      "execution_count": 39,
      "outputs": [
        {
          "output_type": "execute_result",
          "data": {
            "text/plain": [
              "Ttest_indResult(statistic=25.499441780633777, pvalue=2.6088823687177823e-120)"
            ]
          },
          "metadata": {},
          "execution_count": 39
        }
      ]
    },
    {
      "cell_type": "markdown",
      "source": [
        "*Observation: Due to the P-Value is less than 5%, I reject the $H_0$. And confirm there is a statistically significant difference in the mean video view count between different verified status account.*"
      ],
      "metadata": {
        "id": "uXtooP6-k8Ry"
      }
    },
    {
      "cell_type": "markdown",
      "source": [
        "##### egagement features proportion VS claim_status VS author_ban_status"
      ],
      "metadata": {
        "id": "SIjaGAK7otBE"
      }
    },
    {
      "cell_type": "code",
      "source": [
        "# Create new features to have a better understand of the relationship between view count and other engagement count.\n",
        "df['like_per_view'] = df['video_like_count'] / df['video_view_count']\n",
        "df['comment_per_view'] = df['video_comment_count'] / df['video_view_count']\n",
        "df['share_per_view'] = df['video_share_count'] / df['video_view_count']\n",
        "df['download_per_view'] = df['video_download_count'] / df['video_view_count']"
      ],
      "metadata": {
        "id": "L7PjXXmKVSUb"
      },
      "execution_count": 40,
      "outputs": []
    },
    {
      "cell_type": "code",
      "source": [
        "# Generate report to show the different engagement proportion.\n",
        "df.groupby(['claim_status', 'author_ban_status']).agg({'like_per_view': ['count','mean','median'],\n",
        "                                                       'comment_per_view': ['count','mean','median'],\n",
        "                                                       'share_per_view': ['count','mean','median'],\n",
        "                                                       'download_per_view': ['count','mean','median'],})"
      ],
      "metadata": {
        "colab": {
          "base_uri": "https://localhost:8080/",
          "height": 300
        },
        "id": "Eh-CRLF_W_RQ",
        "outputId": "f07fb2a4-1b4d-4c61-b312-aba4d094fba6"
      },
      "execution_count": 41,
      "outputs": [
        {
          "output_type": "execute_result",
          "data": {
            "text/plain": [
              "                               like_per_view                      \\\n",
              "                                       count      mean    median   \n",
              "claim_status author_ban_status                                     \n",
              "claim        active                     6566  0.329542  0.326538   \n",
              "             banned                     1439  0.345071  0.358909   \n",
              "             under review               1603  0.327997  0.320867   \n",
              "opinion      active                     8817  0.219744  0.218330   \n",
              "             banned                      196  0.206868  0.198483   \n",
              "             under review                463  0.226394  0.228051   \n",
              "\n",
              "                               comment_per_view                      \\\n",
              "                                          count      mean    median   \n",
              "claim_status author_ban_status                                        \n",
              "claim        active                        6566  0.001393  0.000776   \n",
              "             banned                        1439  0.001377  0.000746   \n",
              "             under review                  1603  0.001367  0.000789   \n",
              "opinion      active                        8817  0.000517  0.000252   \n",
              "             banned                         196  0.000434  0.000193   \n",
              "             under review                   463  0.000536  0.000293   \n",
              "\n",
              "                               share_per_view                      \\\n",
              "                                        count      mean    median   \n",
              "claim_status author_ban_status                                      \n",
              "claim        active                      6566  0.065456  0.049279   \n",
              "             banned                      1439  0.067893  0.051606   \n",
              "             under review                1603  0.065733  0.049967   \n",
              "opinion      active                      8817  0.043729  0.032405   \n",
              "             banned                       196  0.040531  0.030728   \n",
              "             under review                 463  0.044472  0.035027   \n",
              "\n",
              "                               download_per_view                      \n",
              "                                           count      mean    median  \n",
              "claim_status author_ban_status                                        \n",
              "claim        active                         6566  0.004133  0.003083  \n",
              "             banned                         1439  0.004240  0.003142  \n",
              "             under review                   1603  0.004112  0.003091  \n",
              "opinion      active                         8817  0.002712  0.001977  \n",
              "             banned                          196  0.002580  0.001804  \n",
              "             under review                    463  0.002777  0.002053  "
            ],
            "text/html": [
              "\n",
              "  <div id=\"df-cd4f77c4-fda8-4ed6-91fe-499b2801de47\">\n",
              "    <div class=\"colab-df-container\">\n",
              "      <div>\n",
              "<style scoped>\n",
              "    .dataframe tbody tr th:only-of-type {\n",
              "        vertical-align: middle;\n",
              "    }\n",
              "\n",
              "    .dataframe tbody tr th {\n",
              "        vertical-align: top;\n",
              "    }\n",
              "\n",
              "    .dataframe thead tr th {\n",
              "        text-align: left;\n",
              "    }\n",
              "\n",
              "    .dataframe thead tr:last-of-type th {\n",
              "        text-align: right;\n",
              "    }\n",
              "</style>\n",
              "<table border=\"1\" class=\"dataframe\">\n",
              "  <thead>\n",
              "    <tr>\n",
              "      <th></th>\n",
              "      <th></th>\n",
              "      <th colspan=\"3\" halign=\"left\">like_per_view</th>\n",
              "      <th colspan=\"3\" halign=\"left\">comment_per_view</th>\n",
              "      <th colspan=\"3\" halign=\"left\">share_per_view</th>\n",
              "      <th colspan=\"3\" halign=\"left\">download_per_view</th>\n",
              "    </tr>\n",
              "    <tr>\n",
              "      <th></th>\n",
              "      <th></th>\n",
              "      <th>count</th>\n",
              "      <th>mean</th>\n",
              "      <th>median</th>\n",
              "      <th>count</th>\n",
              "      <th>mean</th>\n",
              "      <th>median</th>\n",
              "      <th>count</th>\n",
              "      <th>mean</th>\n",
              "      <th>median</th>\n",
              "      <th>count</th>\n",
              "      <th>mean</th>\n",
              "      <th>median</th>\n",
              "    </tr>\n",
              "    <tr>\n",
              "      <th>claim_status</th>\n",
              "      <th>author_ban_status</th>\n",
              "      <th></th>\n",
              "      <th></th>\n",
              "      <th></th>\n",
              "      <th></th>\n",
              "      <th></th>\n",
              "      <th></th>\n",
              "      <th></th>\n",
              "      <th></th>\n",
              "      <th></th>\n",
              "      <th></th>\n",
              "      <th></th>\n",
              "      <th></th>\n",
              "    </tr>\n",
              "  </thead>\n",
              "  <tbody>\n",
              "    <tr>\n",
              "      <th rowspan=\"3\" valign=\"top\">claim</th>\n",
              "      <th>active</th>\n",
              "      <td>6566</td>\n",
              "      <td>0.329542</td>\n",
              "      <td>0.326538</td>\n",
              "      <td>6566</td>\n",
              "      <td>0.001393</td>\n",
              "      <td>0.000776</td>\n",
              "      <td>6566</td>\n",
              "      <td>0.065456</td>\n",
              "      <td>0.049279</td>\n",
              "      <td>6566</td>\n",
              "      <td>0.004133</td>\n",
              "      <td>0.003083</td>\n",
              "    </tr>\n",
              "    <tr>\n",
              "      <th>banned</th>\n",
              "      <td>1439</td>\n",
              "      <td>0.345071</td>\n",
              "      <td>0.358909</td>\n",
              "      <td>1439</td>\n",
              "      <td>0.001377</td>\n",
              "      <td>0.000746</td>\n",
              "      <td>1439</td>\n",
              "      <td>0.067893</td>\n",
              "      <td>0.051606</td>\n",
              "      <td>1439</td>\n",
              "      <td>0.004240</td>\n",
              "      <td>0.003142</td>\n",
              "    </tr>\n",
              "    <tr>\n",
              "      <th>under review</th>\n",
              "      <td>1603</td>\n",
              "      <td>0.327997</td>\n",
              "      <td>0.320867</td>\n",
              "      <td>1603</td>\n",
              "      <td>0.001367</td>\n",
              "      <td>0.000789</td>\n",
              "      <td>1603</td>\n",
              "      <td>0.065733</td>\n",
              "      <td>0.049967</td>\n",
              "      <td>1603</td>\n",
              "      <td>0.004112</td>\n",
              "      <td>0.003091</td>\n",
              "    </tr>\n",
              "    <tr>\n",
              "      <th rowspan=\"3\" valign=\"top\">opinion</th>\n",
              "      <th>active</th>\n",
              "      <td>8817</td>\n",
              "      <td>0.219744</td>\n",
              "      <td>0.218330</td>\n",
              "      <td>8817</td>\n",
              "      <td>0.000517</td>\n",
              "      <td>0.000252</td>\n",
              "      <td>8817</td>\n",
              "      <td>0.043729</td>\n",
              "      <td>0.032405</td>\n",
              "      <td>8817</td>\n",
              "      <td>0.002712</td>\n",
              "      <td>0.001977</td>\n",
              "    </tr>\n",
              "    <tr>\n",
              "      <th>banned</th>\n",
              "      <td>196</td>\n",
              "      <td>0.206868</td>\n",
              "      <td>0.198483</td>\n",
              "      <td>196</td>\n",
              "      <td>0.000434</td>\n",
              "      <td>0.000193</td>\n",
              "      <td>196</td>\n",
              "      <td>0.040531</td>\n",
              "      <td>0.030728</td>\n",
              "      <td>196</td>\n",
              "      <td>0.002580</td>\n",
              "      <td>0.001804</td>\n",
              "    </tr>\n",
              "    <tr>\n",
              "      <th>under review</th>\n",
              "      <td>463</td>\n",
              "      <td>0.226394</td>\n",
              "      <td>0.228051</td>\n",
              "      <td>463</td>\n",
              "      <td>0.000536</td>\n",
              "      <td>0.000293</td>\n",
              "      <td>463</td>\n",
              "      <td>0.044472</td>\n",
              "      <td>0.035027</td>\n",
              "      <td>463</td>\n",
              "      <td>0.002777</td>\n",
              "      <td>0.002053</td>\n",
              "    </tr>\n",
              "  </tbody>\n",
              "</table>\n",
              "</div>\n",
              "      <button class=\"colab-df-convert\" onclick=\"convertToInteractive('df-cd4f77c4-fda8-4ed6-91fe-499b2801de47')\"\n",
              "              title=\"Convert this dataframe to an interactive table.\"\n",
              "              style=\"display:none;\">\n",
              "        \n",
              "  <svg xmlns=\"http://www.w3.org/2000/svg\" height=\"24px\"viewBox=\"0 0 24 24\"\n",
              "       width=\"24px\">\n",
              "    <path d=\"M0 0h24v24H0V0z\" fill=\"none\"/>\n",
              "    <path d=\"M18.56 5.44l.94 2.06.94-2.06 2.06-.94-2.06-.94-.94-2.06-.94 2.06-2.06.94zm-11 1L8.5 8.5l.94-2.06 2.06-.94-2.06-.94L8.5 2.5l-.94 2.06-2.06.94zm10 10l.94 2.06.94-2.06 2.06-.94-2.06-.94-.94-2.06-.94 2.06-2.06.94z\"/><path d=\"M17.41 7.96l-1.37-1.37c-.4-.4-.92-.59-1.43-.59-.52 0-1.04.2-1.43.59L10.3 9.45l-7.72 7.72c-.78.78-.78 2.05 0 2.83L4 21.41c.39.39.9.59 1.41.59.51 0 1.02-.2 1.41-.59l7.78-7.78 2.81-2.81c.8-.78.8-2.07 0-2.86zM5.41 20L4 18.59l7.72-7.72 1.47 1.35L5.41 20z\"/>\n",
              "  </svg>\n",
              "      </button>\n",
              "      \n",
              "  <style>\n",
              "    .colab-df-container {\n",
              "      display:flex;\n",
              "      flex-wrap:wrap;\n",
              "      gap: 12px;\n",
              "    }\n",
              "\n",
              "    .colab-df-convert {\n",
              "      background-color: #E8F0FE;\n",
              "      border: none;\n",
              "      border-radius: 50%;\n",
              "      cursor: pointer;\n",
              "      display: none;\n",
              "      fill: #1967D2;\n",
              "      height: 32px;\n",
              "      padding: 0 0 0 0;\n",
              "      width: 32px;\n",
              "    }\n",
              "\n",
              "    .colab-df-convert:hover {\n",
              "      background-color: #E2EBFA;\n",
              "      box-shadow: 0px 1px 2px rgba(60, 64, 67, 0.3), 0px 1px 3px 1px rgba(60, 64, 67, 0.15);\n",
              "      fill: #174EA6;\n",
              "    }\n",
              "\n",
              "    [theme=dark] .colab-df-convert {\n",
              "      background-color: #3B4455;\n",
              "      fill: #D2E3FC;\n",
              "    }\n",
              "\n",
              "    [theme=dark] .colab-df-convert:hover {\n",
              "      background-color: #434B5C;\n",
              "      box-shadow: 0px 1px 3px 1px rgba(0, 0, 0, 0.15);\n",
              "      filter: drop-shadow(0px 1px 2px rgba(0, 0, 0, 0.3));\n",
              "      fill: #FFFFFF;\n",
              "    }\n",
              "  </style>\n",
              "\n",
              "      <script>\n",
              "        const buttonEl =\n",
              "          document.querySelector('#df-cd4f77c4-fda8-4ed6-91fe-499b2801de47 button.colab-df-convert');\n",
              "        buttonEl.style.display =\n",
              "          google.colab.kernel.accessAllowed ? 'block' : 'none';\n",
              "\n",
              "        async function convertToInteractive(key) {\n",
              "          const element = document.querySelector('#df-cd4f77c4-fda8-4ed6-91fe-499b2801de47');\n",
              "          const dataTable =\n",
              "            await google.colab.kernel.invokeFunction('convertToInteractive',\n",
              "                                                     [key], {});\n",
              "          if (!dataTable) return;\n",
              "\n",
              "          const docLinkHtml = 'Like what you see? Visit the ' +\n",
              "            '<a target=\"_blank\" href=https://colab.research.google.com/notebooks/data_table.ipynb>data table notebook</a>'\n",
              "            + ' to learn more about interactive tables.';\n",
              "          element.innerHTML = '';\n",
              "          dataTable['output_type'] = 'display_data';\n",
              "          await google.colab.output.renderOutput(dataTable, element);\n",
              "          const docLink = document.createElement('div');\n",
              "          docLink.innerHTML = docLinkHtml;\n",
              "          element.appendChild(docLink);\n",
              "        }\n",
              "      </script>\n",
              "    </div>\n",
              "  </div>\n",
              "  "
            ]
          },
          "metadata": {},
          "execution_count": 41
        }
      ]
    },
    {
      "cell_type": "markdown",
      "source": [
        "*Observation: There is no obvious clue that the claim status and author ban status will affect the engagement proportions.*"
      ],
      "metadata": {
        "id": "n2RQfU_JYc3M"
      }
    },
    {
      "cell_type": "code",
      "source": [
        "# Drop the per_view cilumns.\n",
        "df.drop(['like_per_view', 'comment_per_view', 'share_per_view', 'download_per_view'], axis=1, inplace=True)"
      ],
      "metadata": {
        "id": "p2ss8DQOY4Hn"
      },
      "execution_count": 42,
      "outputs": []
    },
    {
      "cell_type": "markdown",
      "source": [
        "# Part3: Feature Engineering\n",
        "According to the observations above, in this step, I will implement feature engineering as follows:\n",
        "\n",
        "1.   Use resampling to create classes balance.\n",
        "2.   Convert the video_transcript_text to valuble numerical feature.\n",
        "3.   Encode the categorical features.\n",
        "\n",
        "\n"
      ],
      "metadata": {
        "id": "-2mkCAzuKf17"
      }
    },
    {
      "cell_type": "markdown",
      "source": [
        "## Use resampling to create verified_status class balance."
      ],
      "metadata": {
        "id": "pKiUcDEILVzx"
      }
    },
    {
      "cell_type": "markdown",
      "source": [
        "### Re-check the class balance."
      ],
      "metadata": {
        "id": "T71yS_lqQWmV"
      }
    },
    {
      "cell_type": "code",
      "source": [
        "# Check the class balance of chategorical features.\n",
        "df['claim_status'].value_counts(normalize=True)"
      ],
      "metadata": {
        "colab": {
          "base_uri": "https://localhost:8080/"
        },
        "id": "T9aGDitMQSJc",
        "outputId": "4c5d84ca-cc18-4b3d-8b14-4cbf72c7d9a9"
      },
      "execution_count": 43,
      "outputs": [
        {
          "output_type": "execute_result",
          "data": {
            "text/plain": [
              "claim      0.503458\n",
              "opinion    0.496542\n",
              "Name: claim_status, dtype: float64"
            ]
          },
          "metadata": {},
          "execution_count": 43
        }
      ]
    },
    {
      "cell_type": "code",
      "source": [
        "df['verified_status'].value_counts(normalize=True)"
      ],
      "metadata": {
        "colab": {
          "base_uri": "https://localhost:8080/"
        },
        "id": "9711McRTRRe8",
        "outputId": "6dc4dfca-98aa-4db6-e625-daae065edadf"
      },
      "execution_count": 44,
      "outputs": [
        {
          "output_type": "execute_result",
          "data": {
            "text/plain": [
              "not verified    0.93712\n",
              "verified        0.06288\n",
              "Name: verified_status, dtype: float64"
            ]
          },
          "metadata": {},
          "execution_count": 44
        }
      ]
    },
    {
      "cell_type": "code",
      "source": [
        "df['author_ban_status'].value_counts(normalize=True)"
      ],
      "metadata": {
        "colab": {
          "base_uri": "https://localhost:8080/"
        },
        "id": "GNHAFuELReIS",
        "outputId": "d6d5c266-2229-46a7-f4fc-0b6adf353955"
      },
      "execution_count": 45,
      "outputs": [
        {
          "output_type": "execute_result",
          "data": {
            "text/plain": [
              "active          0.806068\n",
              "under review    0.108258\n",
              "banned          0.085674\n",
              "Name: author_ban_status, dtype: float64"
            ]
          },
          "metadata": {},
          "execution_count": 45
        }
      ]
    },
    {
      "cell_type": "markdown",
      "source": [
        "### Resampling the Target feature."
      ],
      "metadata": {
        "id": "3C3Ui4DBRehl"
      }
    },
    {
      "cell_type": "code",
      "source": [
        "# Import the required library.\n",
        "from sklearn.utils import resample"
      ],
      "metadata": {
        "id": "6IsLoCgUR3xI"
      },
      "execution_count": 46,
      "outputs": []
    },
    {
      "cell_type": "code",
      "source": [
        "# Split the classes.\n",
        "df_majority = df[df['verified_status'] == 'not verified']\n",
        "df_minority = df[df['verified_status'] == 'verified']"
      ],
      "metadata": {
        "id": "f9mTLLHPR-QR"
      },
      "execution_count": 47,
      "outputs": []
    },
    {
      "cell_type": "code",
      "source": [
        "# Due to the object amount of minority class is too small, I will upsample the mojority class.\n",
        "df_minority_upsampled = resample(df_minority,\n",
        "                                 replace=True,\n",
        "                                 n_samples=len(df_majority),\n",
        "                                 random_state=0)"
      ],
      "metadata": {
        "id": "baEGKsirSVCm"
      },
      "execution_count": 48,
      "outputs": []
    },
    {
      "cell_type": "code",
      "source": [
        "# Concat the two dataframs to a balanced one.\n",
        "df_balanced = pd.concat([df_majority, df_minority_upsampled]).reset_index(drop=True)"
      ],
      "metadata": {
        "id": "HStCmp9mUJRe"
      },
      "execution_count": 49,
      "outputs": []
    },
    {
      "cell_type": "code",
      "source": [
        "# Re-check the balance of the classes.\n",
        "df_balanced['verified_status'].value_counts(normalize=True)"
      ],
      "metadata": {
        "colab": {
          "base_uri": "https://localhost:8080/"
        },
        "id": "yXtChal9UL2O",
        "outputId": "b11e5b88-4979-429f-a867-e3042202d9ea"
      },
      "execution_count": 50,
      "outputs": [
        {
          "output_type": "execute_result",
          "data": {
            "text/plain": [
              "not verified    0.5\n",
              "verified        0.5\n",
              "Name: verified_status, dtype: float64"
            ]
          },
          "metadata": {},
          "execution_count": 50
        }
      ]
    },
    {
      "cell_type": "markdown",
      "source": [
        "### Convert the video_transcript_text to text length."
      ],
      "metadata": {
        "id": "T5wInh0EU7oj"
      }
    },
    {
      "cell_type": "code",
      "source": [
        "df_balanced['text_len'] = df_balanced['video_transcription_text'].apply(lambda x:len(x))"
      ],
      "metadata": {
        "id": "Hq5HiIenVw7S"
      },
      "execution_count": 51,
      "outputs": []
    },
    {
      "cell_type": "code",
      "source": [
        "# Drop the original chategorical feature.\n",
        "df_balanced.drop(['video_transcription_text'], axis=1, inplace=True)"
      ],
      "metadata": {
        "id": "H7t5LiFRV_tn"
      },
      "execution_count": 52,
      "outputs": []
    },
    {
      "cell_type": "markdown",
      "source": [
        "### Encode all the categorical features."
      ],
      "metadata": {
        "id": "3TP6smP7X4FA"
      }
    },
    {
      "cell_type": "code",
      "source": [
        "df_balanced =  pd.get_dummies(df_balanced, columns=['author_ban_status','claim_status','verified_status'], drop_first=True)"
      ],
      "metadata": {
        "id": "xJsWjbYEZw5A"
      },
      "execution_count": 53,
      "outputs": []
    },
    {
      "cell_type": "code",
      "source": [
        "df_balanced.head()"
      ],
      "metadata": {
        "colab": {
          "base_uri": "https://localhost:8080/",
          "height": 287
        },
        "id": "nTfdm6tbaaab",
        "outputId": "f8b18409-8334-43b8-f561-f08748539a5d"
      },
      "execution_count": 54,
      "outputs": [
        {
          "output_type": "execute_result",
          "data": {
            "text/plain": [
              "   video_duration_sec  video_view_count  video_like_count  video_share_count  \\\n",
              "0                  59          343296.0           19425.0              241.0   \n",
              "1                  32          140877.0           77355.0            19034.0   \n",
              "2                  31          902185.0           97690.0             2858.0   \n",
              "3                  25          437506.0          239954.0            34812.0   \n",
              "4                  19           56167.0           34987.0             4110.0   \n",
              "\n",
              "   video_download_count  video_comment_count  text_len  \\\n",
              "0                   1.0                  0.0        97   \n",
              "1                1161.0                684.0       107   \n",
              "2                 833.0                329.0       137   \n",
              "3                1234.0                584.0       131   \n",
              "4                 547.0                152.0       128   \n",
              "\n",
              "   author_ban_status_banned  author_ban_status_under review  \\\n",
              "0                         0                               1   \n",
              "1                         0                               0   \n",
              "2                         0                               0   \n",
              "3                         0                               0   \n",
              "4                         0                               0   \n",
              "\n",
              "   claim_status_opinion  verified_status_verified  \n",
              "0                     0                         0  \n",
              "1                     0                         0  \n",
              "2                     0                         0  \n",
              "3                     0                         0  \n",
              "4                     0                         0  "
            ],
            "text/html": [
              "\n",
              "  <div id=\"df-eb3fca95-67ce-4d3a-bcd6-9c1c53715b64\">\n",
              "    <div class=\"colab-df-container\">\n",
              "      <div>\n",
              "<style scoped>\n",
              "    .dataframe tbody tr th:only-of-type {\n",
              "        vertical-align: middle;\n",
              "    }\n",
              "\n",
              "    .dataframe tbody tr th {\n",
              "        vertical-align: top;\n",
              "    }\n",
              "\n",
              "    .dataframe thead th {\n",
              "        text-align: right;\n",
              "    }\n",
              "</style>\n",
              "<table border=\"1\" class=\"dataframe\">\n",
              "  <thead>\n",
              "    <tr style=\"text-align: right;\">\n",
              "      <th></th>\n",
              "      <th>video_duration_sec</th>\n",
              "      <th>video_view_count</th>\n",
              "      <th>video_like_count</th>\n",
              "      <th>video_share_count</th>\n",
              "      <th>video_download_count</th>\n",
              "      <th>video_comment_count</th>\n",
              "      <th>text_len</th>\n",
              "      <th>author_ban_status_banned</th>\n",
              "      <th>author_ban_status_under review</th>\n",
              "      <th>claim_status_opinion</th>\n",
              "      <th>verified_status_verified</th>\n",
              "    </tr>\n",
              "  </thead>\n",
              "  <tbody>\n",
              "    <tr>\n",
              "      <th>0</th>\n",
              "      <td>59</td>\n",
              "      <td>343296.0</td>\n",
              "      <td>19425.0</td>\n",
              "      <td>241.0</td>\n",
              "      <td>1.0</td>\n",
              "      <td>0.0</td>\n",
              "      <td>97</td>\n",
              "      <td>0</td>\n",
              "      <td>1</td>\n",
              "      <td>0</td>\n",
              "      <td>0</td>\n",
              "    </tr>\n",
              "    <tr>\n",
              "      <th>1</th>\n",
              "      <td>32</td>\n",
              "      <td>140877.0</td>\n",
              "      <td>77355.0</td>\n",
              "      <td>19034.0</td>\n",
              "      <td>1161.0</td>\n",
              "      <td>684.0</td>\n",
              "      <td>107</td>\n",
              "      <td>0</td>\n",
              "      <td>0</td>\n",
              "      <td>0</td>\n",
              "      <td>0</td>\n",
              "    </tr>\n",
              "    <tr>\n",
              "      <th>2</th>\n",
              "      <td>31</td>\n",
              "      <td>902185.0</td>\n",
              "      <td>97690.0</td>\n",
              "      <td>2858.0</td>\n",
              "      <td>833.0</td>\n",
              "      <td>329.0</td>\n",
              "      <td>137</td>\n",
              "      <td>0</td>\n",
              "      <td>0</td>\n",
              "      <td>0</td>\n",
              "      <td>0</td>\n",
              "    </tr>\n",
              "    <tr>\n",
              "      <th>3</th>\n",
              "      <td>25</td>\n",
              "      <td>437506.0</td>\n",
              "      <td>239954.0</td>\n",
              "      <td>34812.0</td>\n",
              "      <td>1234.0</td>\n",
              "      <td>584.0</td>\n",
              "      <td>131</td>\n",
              "      <td>0</td>\n",
              "      <td>0</td>\n",
              "      <td>0</td>\n",
              "      <td>0</td>\n",
              "    </tr>\n",
              "    <tr>\n",
              "      <th>4</th>\n",
              "      <td>19</td>\n",
              "      <td>56167.0</td>\n",
              "      <td>34987.0</td>\n",
              "      <td>4110.0</td>\n",
              "      <td>547.0</td>\n",
              "      <td>152.0</td>\n",
              "      <td>128</td>\n",
              "      <td>0</td>\n",
              "      <td>0</td>\n",
              "      <td>0</td>\n",
              "      <td>0</td>\n",
              "    </tr>\n",
              "  </tbody>\n",
              "</table>\n",
              "</div>\n",
              "      <button class=\"colab-df-convert\" onclick=\"convertToInteractive('df-eb3fca95-67ce-4d3a-bcd6-9c1c53715b64')\"\n",
              "              title=\"Convert this dataframe to an interactive table.\"\n",
              "              style=\"display:none;\">\n",
              "        \n",
              "  <svg xmlns=\"http://www.w3.org/2000/svg\" height=\"24px\"viewBox=\"0 0 24 24\"\n",
              "       width=\"24px\">\n",
              "    <path d=\"M0 0h24v24H0V0z\" fill=\"none\"/>\n",
              "    <path d=\"M18.56 5.44l.94 2.06.94-2.06 2.06-.94-2.06-.94-.94-2.06-.94 2.06-2.06.94zm-11 1L8.5 8.5l.94-2.06 2.06-.94-2.06-.94L8.5 2.5l-.94 2.06-2.06.94zm10 10l.94 2.06.94-2.06 2.06-.94-2.06-.94-.94-2.06-.94 2.06-2.06.94z\"/><path d=\"M17.41 7.96l-1.37-1.37c-.4-.4-.92-.59-1.43-.59-.52 0-1.04.2-1.43.59L10.3 9.45l-7.72 7.72c-.78.78-.78 2.05 0 2.83L4 21.41c.39.39.9.59 1.41.59.51 0 1.02-.2 1.41-.59l7.78-7.78 2.81-2.81c.8-.78.8-2.07 0-2.86zM5.41 20L4 18.59l7.72-7.72 1.47 1.35L5.41 20z\"/>\n",
              "  </svg>\n",
              "      </button>\n",
              "      \n",
              "  <style>\n",
              "    .colab-df-container {\n",
              "      display:flex;\n",
              "      flex-wrap:wrap;\n",
              "      gap: 12px;\n",
              "    }\n",
              "\n",
              "    .colab-df-convert {\n",
              "      background-color: #E8F0FE;\n",
              "      border: none;\n",
              "      border-radius: 50%;\n",
              "      cursor: pointer;\n",
              "      display: none;\n",
              "      fill: #1967D2;\n",
              "      height: 32px;\n",
              "      padding: 0 0 0 0;\n",
              "      width: 32px;\n",
              "    }\n",
              "\n",
              "    .colab-df-convert:hover {\n",
              "      background-color: #E2EBFA;\n",
              "      box-shadow: 0px 1px 2px rgba(60, 64, 67, 0.3), 0px 1px 3px 1px rgba(60, 64, 67, 0.15);\n",
              "      fill: #174EA6;\n",
              "    }\n",
              "\n",
              "    [theme=dark] .colab-df-convert {\n",
              "      background-color: #3B4455;\n",
              "      fill: #D2E3FC;\n",
              "    }\n",
              "\n",
              "    [theme=dark] .colab-df-convert:hover {\n",
              "      background-color: #434B5C;\n",
              "      box-shadow: 0px 1px 3px 1px rgba(0, 0, 0, 0.15);\n",
              "      filter: drop-shadow(0px 1px 2px rgba(0, 0, 0, 0.3));\n",
              "      fill: #FFFFFF;\n",
              "    }\n",
              "  </style>\n",
              "\n",
              "      <script>\n",
              "        const buttonEl =\n",
              "          document.querySelector('#df-eb3fca95-67ce-4d3a-bcd6-9c1c53715b64 button.colab-df-convert');\n",
              "        buttonEl.style.display =\n",
              "          google.colab.kernel.accessAllowed ? 'block' : 'none';\n",
              "\n",
              "        async function convertToInteractive(key) {\n",
              "          const element = document.querySelector('#df-eb3fca95-67ce-4d3a-bcd6-9c1c53715b64');\n",
              "          const dataTable =\n",
              "            await google.colab.kernel.invokeFunction('convertToInteractive',\n",
              "                                                     [key], {});\n",
              "          if (!dataTable) return;\n",
              "\n",
              "          const docLinkHtml = 'Like what you see? Visit the ' +\n",
              "            '<a target=\"_blank\" href=https://colab.research.google.com/notebooks/data_table.ipynb>data table notebook</a>'\n",
              "            + ' to learn more about interactive tables.';\n",
              "          element.innerHTML = '';\n",
              "          dataTable['output_type'] = 'display_data';\n",
              "          await google.colab.output.renderOutput(dataTable, element);\n",
              "          const docLink = document.createElement('div');\n",
              "          docLink.innerHTML = docLinkHtml;\n",
              "          element.appendChild(docLink);\n",
              "        }\n",
              "      </script>\n",
              "    </div>\n",
              "  </div>\n",
              "  "
            ]
          },
          "metadata": {},
          "execution_count": 54
        }
      ]
    },
    {
      "cell_type": "markdown",
      "source": [
        "# Part 4: Further EDA."
      ],
      "metadata": {
        "id": "EU3X6f_la-VA"
      }
    },
    {
      "cell_type": "markdown",
      "source": [
        "## Get the corelations among different features."
      ],
      "metadata": {
        "id": "SxI_Q3ZtEht9"
      }
    },
    {
      "cell_type": "code",
      "source": [
        "# Print the corelation matrix.\n",
        "df_balanced.corr()"
      ],
      "metadata": {
        "colab": {
          "base_uri": "https://localhost:8080/",
          "height": 493
        },
        "id": "hRpAKbxLF3qm",
        "outputId": "12cd5d5b-cbe8-4d1e-aaab-137e5c379955"
      },
      "execution_count": 55,
      "outputs": [
        {
          "output_type": "execute_result",
          "data": {
            "text/plain": [
              "                                video_duration_sec  video_view_count  \\\n",
              "video_duration_sec                        1.000000          0.013589   \n",
              "video_view_count                          0.013589          1.000000   \n",
              "video_like_count                          0.004890          0.832832   \n",
              "video_share_count                         0.002206          0.711313   \n",
              "video_download_count                      0.003989          0.690048   \n",
              "video_comment_count                      -0.004586          0.583485   \n",
              "text_len                                 -0.002981          0.244693   \n",
              "author_ban_status_banned                 -0.011113          0.197926   \n",
              "author_ban_status_under review           -0.017150          0.156097   \n",
              "claim_status_opinion                     -0.017787         -0.810610   \n",
              "verified_status_verified                 -0.023303         -0.299538   \n",
              "\n",
              "                                video_like_count  video_share_count  \\\n",
              "video_duration_sec                      0.004890           0.002206   \n",
              "video_view_count                        0.832832           0.711313   \n",
              "video_like_count                        1.000000           0.850053   \n",
              "video_share_count                       0.850053           1.000000   \n",
              "video_download_count                    0.828082           0.710117   \n",
              "video_comment_count                     0.706140           0.620182   \n",
              "text_len                                0.202386           0.171651   \n",
              "author_ban_status_banned                0.175049           0.144452   \n",
              "author_ban_status_under review          0.136707           0.125569   \n",
              "claim_status_opinion                   -0.674719          -0.576959   \n",
              "verified_status_verified               -0.244425          -0.193260   \n",
              "\n",
              "                                video_download_count  video_comment_count  \\\n",
              "video_duration_sec                          0.003989            -0.004586   \n",
              "video_view_count                            0.690048             0.583485   \n",
              "video_like_count                            0.828082             0.706140   \n",
              "video_share_count                           0.710117             0.620182   \n",
              "video_download_count                        1.000000             0.857679   \n",
              "video_comment_count                         0.857679             1.000000   \n",
              "text_len                                    0.173396             0.149750   \n",
              "author_ban_status_banned                    0.150568             0.124947   \n",
              "author_ban_status_under review              0.126437             0.109038   \n",
              "claim_status_opinion                       -0.564807            -0.478565   \n",
              "verified_status_verified                   -0.213388            -0.159679   \n",
              "\n",
              "                                text_len  author_ban_status_banned  \\\n",
              "video_duration_sec             -0.002981                 -0.011113   \n",
              "video_view_count                0.244693                  0.197926   \n",
              "video_like_count                0.202386                  0.175049   \n",
              "video_share_count               0.171651                  0.144452   \n",
              "video_download_count            0.173396                  0.150568   \n",
              "video_comment_count             0.149750                  0.124947   \n",
              "text_len                        1.000000                  0.081200   \n",
              "author_ban_status_banned        0.081200                  1.000000   \n",
              "author_ban_status_under review  0.045782                 -0.080761   \n",
              "claim_status_opinion           -0.296496                 -0.230580   \n",
              "verified_status_verified       -0.118941                 -0.109435   \n",
              "\n",
              "                                author_ban_status_under review  \\\n",
              "video_duration_sec                                   -0.017150   \n",
              "video_view_count                                      0.156097   \n",
              "video_like_count                                      0.136707   \n",
              "video_share_count                                     0.125569   \n",
              "video_download_count                                  0.126437   \n",
              "video_comment_count                                   0.109038   \n",
              "text_len                                              0.045782   \n",
              "author_ban_status_banned                             -0.080761   \n",
              "author_ban_status_under review                        1.000000   \n",
              "claim_status_opinion                                 -0.182564   \n",
              "verified_status_verified                             -0.077189   \n",
              "\n",
              "                                claim_status_opinion  verified_status_verified  \n",
              "video_duration_sec                         -0.017787                 -0.023303  \n",
              "video_view_count                           -0.810610                 -0.299538  \n",
              "video_like_count                           -0.674719                 -0.244425  \n",
              "video_share_count                          -0.576959                 -0.193260  \n",
              "video_download_count                       -0.564807                 -0.213388  \n",
              "video_comment_count                        -0.478565                 -0.159679  \n",
              "text_len                                   -0.296496                 -0.118941  \n",
              "author_ban_status_banned                   -0.230580                 -0.109435  \n",
              "author_ban_status_under review             -0.182564                 -0.077189  \n",
              "claim_status_opinion                        1.000000                  0.369094  \n",
              "verified_status_verified                    0.369094                  1.000000  "
            ],
            "text/html": [
              "\n",
              "  <div id=\"df-72f24697-10e8-472b-8cfe-354f589205d0\">\n",
              "    <div class=\"colab-df-container\">\n",
              "      <div>\n",
              "<style scoped>\n",
              "    .dataframe tbody tr th:only-of-type {\n",
              "        vertical-align: middle;\n",
              "    }\n",
              "\n",
              "    .dataframe tbody tr th {\n",
              "        vertical-align: top;\n",
              "    }\n",
              "\n",
              "    .dataframe thead th {\n",
              "        text-align: right;\n",
              "    }\n",
              "</style>\n",
              "<table border=\"1\" class=\"dataframe\">\n",
              "  <thead>\n",
              "    <tr style=\"text-align: right;\">\n",
              "      <th></th>\n",
              "      <th>video_duration_sec</th>\n",
              "      <th>video_view_count</th>\n",
              "      <th>video_like_count</th>\n",
              "      <th>video_share_count</th>\n",
              "      <th>video_download_count</th>\n",
              "      <th>video_comment_count</th>\n",
              "      <th>text_len</th>\n",
              "      <th>author_ban_status_banned</th>\n",
              "      <th>author_ban_status_under review</th>\n",
              "      <th>claim_status_opinion</th>\n",
              "      <th>verified_status_verified</th>\n",
              "    </tr>\n",
              "  </thead>\n",
              "  <tbody>\n",
              "    <tr>\n",
              "      <th>video_duration_sec</th>\n",
              "      <td>1.000000</td>\n",
              "      <td>0.013589</td>\n",
              "      <td>0.004890</td>\n",
              "      <td>0.002206</td>\n",
              "      <td>0.003989</td>\n",
              "      <td>-0.004586</td>\n",
              "      <td>-0.002981</td>\n",
              "      <td>-0.011113</td>\n",
              "      <td>-0.017150</td>\n",
              "      <td>-0.017787</td>\n",
              "      <td>-0.023303</td>\n",
              "    </tr>\n",
              "    <tr>\n",
              "      <th>video_view_count</th>\n",
              "      <td>0.013589</td>\n",
              "      <td>1.000000</td>\n",
              "      <td>0.832832</td>\n",
              "      <td>0.711313</td>\n",
              "      <td>0.690048</td>\n",
              "      <td>0.583485</td>\n",
              "      <td>0.244693</td>\n",
              "      <td>0.197926</td>\n",
              "      <td>0.156097</td>\n",
              "      <td>-0.810610</td>\n",
              "      <td>-0.299538</td>\n",
              "    </tr>\n",
              "    <tr>\n",
              "      <th>video_like_count</th>\n",
              "      <td>0.004890</td>\n",
              "      <td>0.832832</td>\n",
              "      <td>1.000000</td>\n",
              "      <td>0.850053</td>\n",
              "      <td>0.828082</td>\n",
              "      <td>0.706140</td>\n",
              "      <td>0.202386</td>\n",
              "      <td>0.175049</td>\n",
              "      <td>0.136707</td>\n",
              "      <td>-0.674719</td>\n",
              "      <td>-0.244425</td>\n",
              "    </tr>\n",
              "    <tr>\n",
              "      <th>video_share_count</th>\n",
              "      <td>0.002206</td>\n",
              "      <td>0.711313</td>\n",
              "      <td>0.850053</td>\n",
              "      <td>1.000000</td>\n",
              "      <td>0.710117</td>\n",
              "      <td>0.620182</td>\n",
              "      <td>0.171651</td>\n",
              "      <td>0.144452</td>\n",
              "      <td>0.125569</td>\n",
              "      <td>-0.576959</td>\n",
              "      <td>-0.193260</td>\n",
              "    </tr>\n",
              "    <tr>\n",
              "      <th>video_download_count</th>\n",
              "      <td>0.003989</td>\n",
              "      <td>0.690048</td>\n",
              "      <td>0.828082</td>\n",
              "      <td>0.710117</td>\n",
              "      <td>1.000000</td>\n",
              "      <td>0.857679</td>\n",
              "      <td>0.173396</td>\n",
              "      <td>0.150568</td>\n",
              "      <td>0.126437</td>\n",
              "      <td>-0.564807</td>\n",
              "      <td>-0.213388</td>\n",
              "    </tr>\n",
              "    <tr>\n",
              "      <th>video_comment_count</th>\n",
              "      <td>-0.004586</td>\n",
              "      <td>0.583485</td>\n",
              "      <td>0.706140</td>\n",
              "      <td>0.620182</td>\n",
              "      <td>0.857679</td>\n",
              "      <td>1.000000</td>\n",
              "      <td>0.149750</td>\n",
              "      <td>0.124947</td>\n",
              "      <td>0.109038</td>\n",
              "      <td>-0.478565</td>\n",
              "      <td>-0.159679</td>\n",
              "    </tr>\n",
              "    <tr>\n",
              "      <th>text_len</th>\n",
              "      <td>-0.002981</td>\n",
              "      <td>0.244693</td>\n",
              "      <td>0.202386</td>\n",
              "      <td>0.171651</td>\n",
              "      <td>0.173396</td>\n",
              "      <td>0.149750</td>\n",
              "      <td>1.000000</td>\n",
              "      <td>0.081200</td>\n",
              "      <td>0.045782</td>\n",
              "      <td>-0.296496</td>\n",
              "      <td>-0.118941</td>\n",
              "    </tr>\n",
              "    <tr>\n",
              "      <th>author_ban_status_banned</th>\n",
              "      <td>-0.011113</td>\n",
              "      <td>0.197926</td>\n",
              "      <td>0.175049</td>\n",
              "      <td>0.144452</td>\n",
              "      <td>0.150568</td>\n",
              "      <td>0.124947</td>\n",
              "      <td>0.081200</td>\n",
              "      <td>1.000000</td>\n",
              "      <td>-0.080761</td>\n",
              "      <td>-0.230580</td>\n",
              "      <td>-0.109435</td>\n",
              "    </tr>\n",
              "    <tr>\n",
              "      <th>author_ban_status_under review</th>\n",
              "      <td>-0.017150</td>\n",
              "      <td>0.156097</td>\n",
              "      <td>0.136707</td>\n",
              "      <td>0.125569</td>\n",
              "      <td>0.126437</td>\n",
              "      <td>0.109038</td>\n",
              "      <td>0.045782</td>\n",
              "      <td>-0.080761</td>\n",
              "      <td>1.000000</td>\n",
              "      <td>-0.182564</td>\n",
              "      <td>-0.077189</td>\n",
              "    </tr>\n",
              "    <tr>\n",
              "      <th>claim_status_opinion</th>\n",
              "      <td>-0.017787</td>\n",
              "      <td>-0.810610</td>\n",
              "      <td>-0.674719</td>\n",
              "      <td>-0.576959</td>\n",
              "      <td>-0.564807</td>\n",
              "      <td>-0.478565</td>\n",
              "      <td>-0.296496</td>\n",
              "      <td>-0.230580</td>\n",
              "      <td>-0.182564</td>\n",
              "      <td>1.000000</td>\n",
              "      <td>0.369094</td>\n",
              "    </tr>\n",
              "    <tr>\n",
              "      <th>verified_status_verified</th>\n",
              "      <td>-0.023303</td>\n",
              "      <td>-0.299538</td>\n",
              "      <td>-0.244425</td>\n",
              "      <td>-0.193260</td>\n",
              "      <td>-0.213388</td>\n",
              "      <td>-0.159679</td>\n",
              "      <td>-0.118941</td>\n",
              "      <td>-0.109435</td>\n",
              "      <td>-0.077189</td>\n",
              "      <td>0.369094</td>\n",
              "      <td>1.000000</td>\n",
              "    </tr>\n",
              "  </tbody>\n",
              "</table>\n",
              "</div>\n",
              "      <button class=\"colab-df-convert\" onclick=\"convertToInteractive('df-72f24697-10e8-472b-8cfe-354f589205d0')\"\n",
              "              title=\"Convert this dataframe to an interactive table.\"\n",
              "              style=\"display:none;\">\n",
              "        \n",
              "  <svg xmlns=\"http://www.w3.org/2000/svg\" height=\"24px\"viewBox=\"0 0 24 24\"\n",
              "       width=\"24px\">\n",
              "    <path d=\"M0 0h24v24H0V0z\" fill=\"none\"/>\n",
              "    <path d=\"M18.56 5.44l.94 2.06.94-2.06 2.06-.94-2.06-.94-.94-2.06-.94 2.06-2.06.94zm-11 1L8.5 8.5l.94-2.06 2.06-.94-2.06-.94L8.5 2.5l-.94 2.06-2.06.94zm10 10l.94 2.06.94-2.06 2.06-.94-2.06-.94-.94-2.06-.94 2.06-2.06.94z\"/><path d=\"M17.41 7.96l-1.37-1.37c-.4-.4-.92-.59-1.43-.59-.52 0-1.04.2-1.43.59L10.3 9.45l-7.72 7.72c-.78.78-.78 2.05 0 2.83L4 21.41c.39.39.9.59 1.41.59.51 0 1.02-.2 1.41-.59l7.78-7.78 2.81-2.81c.8-.78.8-2.07 0-2.86zM5.41 20L4 18.59l7.72-7.72 1.47 1.35L5.41 20z\"/>\n",
              "  </svg>\n",
              "      </button>\n",
              "      \n",
              "  <style>\n",
              "    .colab-df-container {\n",
              "      display:flex;\n",
              "      flex-wrap:wrap;\n",
              "      gap: 12px;\n",
              "    }\n",
              "\n",
              "    .colab-df-convert {\n",
              "      background-color: #E8F0FE;\n",
              "      border: none;\n",
              "      border-radius: 50%;\n",
              "      cursor: pointer;\n",
              "      display: none;\n",
              "      fill: #1967D2;\n",
              "      height: 32px;\n",
              "      padding: 0 0 0 0;\n",
              "      width: 32px;\n",
              "    }\n",
              "\n",
              "    .colab-df-convert:hover {\n",
              "      background-color: #E2EBFA;\n",
              "      box-shadow: 0px 1px 2px rgba(60, 64, 67, 0.3), 0px 1px 3px 1px rgba(60, 64, 67, 0.15);\n",
              "      fill: #174EA6;\n",
              "    }\n",
              "\n",
              "    [theme=dark] .colab-df-convert {\n",
              "      background-color: #3B4455;\n",
              "      fill: #D2E3FC;\n",
              "    }\n",
              "\n",
              "    [theme=dark] .colab-df-convert:hover {\n",
              "      background-color: #434B5C;\n",
              "      box-shadow: 0px 1px 3px 1px rgba(0, 0, 0, 0.15);\n",
              "      filter: drop-shadow(0px 1px 2px rgba(0, 0, 0, 0.3));\n",
              "      fill: #FFFFFF;\n",
              "    }\n",
              "  </style>\n",
              "\n",
              "      <script>\n",
              "        const buttonEl =\n",
              "          document.querySelector('#df-72f24697-10e8-472b-8cfe-354f589205d0 button.colab-df-convert');\n",
              "        buttonEl.style.display =\n",
              "          google.colab.kernel.accessAllowed ? 'block' : 'none';\n",
              "\n",
              "        async function convertToInteractive(key) {\n",
              "          const element = document.querySelector('#df-72f24697-10e8-472b-8cfe-354f589205d0');\n",
              "          const dataTable =\n",
              "            await google.colab.kernel.invokeFunction('convertToInteractive',\n",
              "                                                     [key], {});\n",
              "          if (!dataTable) return;\n",
              "\n",
              "          const docLinkHtml = 'Like what you see? Visit the ' +\n",
              "            '<a target=\"_blank\" href=https://colab.research.google.com/notebooks/data_table.ipynb>data table notebook</a>'\n",
              "            + ' to learn more about interactive tables.';\n",
              "          element.innerHTML = '';\n",
              "          dataTable['output_type'] = 'display_data';\n",
              "          await google.colab.output.renderOutput(dataTable, element);\n",
              "          const docLink = document.createElement('div');\n",
              "          docLink.innerHTML = docLinkHtml;\n",
              "          element.appendChild(docLink);\n",
              "        }\n",
              "      </script>\n",
              "    </div>\n",
              "  </div>\n",
              "  "
            ]
          },
          "metadata": {},
          "execution_count": 55
        }
      ]
    },
    {
      "cell_type": "code",
      "source": [
        "# Visualize the correlation heatmap.\n",
        "plt.figure(figsize=(12,6))\n",
        "sns.heatmap(df_balanced.corr(), annot=True, cmap='crest')\n",
        "plt.title('Heatmap')\n",
        "plt.show()"
      ],
      "metadata": {
        "colab": {
          "base_uri": "https://localhost:8080/",
          "height": 757
        },
        "id": "PV2X0GZxF_IR",
        "outputId": "640ac509-87e4-40a2-f513-fbe7ccff95ed"
      },
      "execution_count": 56,
      "outputs": [
        {
          "output_type": "display_data",
          "data": {
            "text/plain": [
              "<Figure size 1200x600 with 2 Axes>"
            ],
            "image/png": "[encoded data removed]"
          },
          "metadata": {}
        }
      ]
    },
    {
      "cell_type": "markdown",
      "source": [
        "*Observation: According to the correlation matrix and heatmap above, the engagement features have very strong correlation.*"
      ],
      "metadata": {
        "id": "UodsOfKpHdoU"
      }
    },
    {
      "cell_type": "markdown",
      "source": [
        "# Part 5: Building the baseline model.\n",
        "In this part. I will use sklear Logistic Regression algorism to build a baseline mode and prepare to hyperparameter tuning and algorism selection."
      ],
      "metadata": {
        "id": "kYHfdBazJHLx"
      }
    },
    {
      "cell_type": "markdown",
      "source": [
        "## Training Preperation."
      ],
      "metadata": {
        "id": "e74GHRE9M_1Y"
      }
    },
    {
      "cell_type": "code",
      "source": [
        "# Import the required libraries.\n",
        "from sklearn.model_selection import train_test_split\n",
        "from sklearn.linear_model import LogisticRegression\n",
        "from sklearn.metrics import classification_report\n",
        "from sklearn.metrics import confusion_matrix, ConfusionMatrixDisplay"
      ],
      "metadata": {
        "id": "wqlwdQwTJ2oS"
      },
      "execution_count": 57,
      "outputs": []
    },
    {
      "cell_type": "code",
      "source": [
        "# Split the target and other features.\n",
        "y = df_balanced['verified_status_verified']\n",
        "X = df_balanced.drop('verified_status_verified', axis=1)"
      ],
      "metadata": {
        "id": "7HgFCg7gKAgD"
      },
      "execution_count": 58,
      "outputs": []
    },
    {
      "cell_type": "code",
      "source": [
        "# Split the training set and testing set.\n",
        "X_train, X_test, y_train, y_test = train_test_split(X, y, test_size=0.25, random_state=0)"
      ],
      "metadata": {
        "id": "EZkPHxfrK1Ck"
      },
      "execution_count": 59,
      "outputs": []
    },
    {
      "cell_type": "code",
      "source": [
        "# Declare a logistic classifier object.\n",
        "log_clf = LogisticRegression()"
      ],
      "metadata": {
        "id": "kiFXj6bGLXTR"
      },
      "execution_count": 60,
      "outputs": []
    },
    {
      "cell_type": "markdown",
      "source": [
        "## Traing the baseline model."
      ],
      "metadata": {
        "id": "rhYqjwM8NGfe"
      }
    },
    {
      "cell_type": "code",
      "source": [
        "# Using the model to fit the training set.\n",
        "log_clf.fit(X_train, y_train)"
      ],
      "metadata": {
        "colab": {
          "base_uri": "https://localhost:8080/",
          "height": 74
        },
        "id": "azKKTqLULrgs",
        "outputId": "e16a4161-7449-4c72-ecc9-e3cac1d71878"
      },
      "execution_count": 61,
      "outputs": [
        {
          "output_type": "execute_result",
          "data": {
            "text/plain": [
              "LogisticRegression()"
            ],
            "text/html": [
              "<style>#sk-container-id-1 {color: black;background-color: white;}#sk-container-id-1 pre{padding: 0;}#sk-container-id-1 div.sk-toggleable {background-color: white;}#sk-container-id-1 label.sk-toggleable__label {cursor: pointer;display: block;width: 100%;margin-bottom: 0;padding: 0.3em;box-sizing: border-box;text-align: center;}#sk-container-id-1 label.sk-toggleable__label-arrow:before {content: \"▸\";float: left;margin-right: 0.25em;color: #696969;}#sk-container-id-1 label.sk-toggleable__label-arrow:hover:before {color: black;}#sk-container-id-1 div.sk-estimator:hover label.sk-toggleable__label-arrow:before {color: black;}#sk-container-id-1 div.sk-toggleable__content {max-height: 0;max-width: 0;overflow: hidden;text-align: left;background-color: #f0f8ff;}#sk-container-id-1 div.sk-toggleable__content pre {margin: 0.2em;color: black;border-radius: 0.25em;background-color: #f0f8ff;}#sk-container-id-1 input.sk-toggleable__control:checked~div.sk-toggleable__content {max-height: 200px;max-width: 100%;overflow: auto;}#sk-container-id-1 input.sk-toggleable__control:checked~label.sk-toggleable__label-arrow:before {content: \"▾\";}#sk-container-id-1 div.sk-estimator input.sk-toggleable__control:checked~label.sk-toggleable__label {background-color: #d4ebff;}#sk-container-id-1 div.sk-label input.sk-toggleable__control:checked~label.sk-toggleable__label {background-color: #d4ebff;}#sk-container-id-1 input.sk-hidden--visually {border: 0;clip: rect(1px 1px 1px 1px);clip: rect(1px, 1px, 1px, 1px);height: 1px;margin: -1px;overflow: hidden;padding: 0;position: absolute;width: 1px;}#sk-container-id-1 div.sk-estimator {font-family: monospace;background-color: #f0f8ff;border: 1px dotted black;border-radius: 0.25em;box-sizing: border-box;margin-bottom: 0.5em;}#sk-container-id-1 div.sk-estimator:hover {background-color: #d4ebff;}#sk-container-id-1 div.sk-parallel-item::after {content: \"\";width: 100%;border-bottom: 1px solid gray;flex-grow: 1;}#sk-container-id-1 div.sk-label:hover label.sk-toggleable__label {background-color: #d4ebff;}#sk-container-id-1 div.sk-serial::before {content: \"\";position: absolute;border-left: 1px solid gray;box-sizing: border-box;top: 0;bottom: 0;left: 50%;z-index: 0;}#sk-container-id-1 div.sk-serial {display: flex;flex-direction: column;align-items: center;background-color: white;padding-right: 0.2em;padding-left: 0.2em;position: relative;}#sk-container-id-1 div.sk-item {position: relative;z-index: 1;}#sk-container-id-1 div.sk-parallel {display: flex;align-items: stretch;justify-content: center;background-color: white;position: relative;}#sk-container-id-1 div.sk-item::before, #sk-container-id-1 div.sk-parallel-item::before {content: \"\";position: absolute;border-left: 1px solid gray;box-sizing: border-box;top: 0;bottom: 0;left: 50%;z-index: -1;}#sk-container-id-1 div.sk-parallel-item {display: flex;flex-direction: column;z-index: 1;position: relative;background-color: white;}#sk-container-id-1 div.sk-parallel-item:first-child::after {align-self: flex-end;width: 50%;}#sk-container-id-1 div.sk-parallel-item:last-child::after {align-self: flex-start;width: 50%;}#sk-container-id-1 div.sk-parallel-item:only-child::after {width: 0;}#sk-container-id-1 div.sk-dashed-wrapped {border: 1px dashed gray;margin: 0 0.4em 0.5em 0.4em;box-sizing: border-box;padding-bottom: 0.4em;background-color: white;}#sk-container-id-1 div.sk-label label {font-family: monospace;font-weight: bold;display: inline-block;line-height: 1.2em;}#sk-container-id-1 div.sk-label-container {text-align: center;}#sk-container-id-1 div.sk-container {/* jupyter's `normalize.less` sets `[hidden] { display: none; }` but bootstrap.min.css set `[hidden] { display: none !important; }` so we also need the `!important` here to be able to override the default hidden behavior on the sphinx rendered scikit-learn.org. See: https://github.com/scikit-learn/scikit-learn/issues/21755 */display: inline-block !important;position: relative;}#sk-container-id-1 div.sk-text-repr-fallback {display: none;}</style><div id=\"sk-container-id-1\" class=\"sk-top-container\"><div class=\"sk-text-repr-fallback\"><pre>LogisticRegression()</pre><b>In a Jupyter environment, please rerun this cell to show the HTML representation or trust the notebook. <br />On GitHub, the HTML representation is unable to render, please try loading this page with nbviewer.org.</b></div><div class=\"sk-container\" hidden><div class=\"sk-item\"><div class=\"sk-estimator sk-toggleable\"><input class=\"sk-toggleable__control sk-hidden--visually\" id=\"sk-estimator-id-1\" type=\"checkbox\" checked><label for=\"sk-estimator-id-1\" class=\"sk-toggleable__label sk-toggleable__label-arrow\">LogisticRegression</label><div class=\"sk-toggleable__content\"><pre>LogisticRegression()</pre></div></div></div></div></div>"
            ]
          },
          "metadata": {},
          "execution_count": 61
        }
      ]
    },
    {
      "cell_type": "markdown",
      "source": [
        "## Predicting the testing set and implement the evaluation."
      ],
      "metadata": {
        "id": "D7PIu8tzOvqk"
      }
    },
    {
      "cell_type": "code",
      "source": [
        "# Predict the testing set.\n",
        "y_pred = log_clf.predict(X_test)"
      ],
      "metadata": {
        "id": "xzMUEFXFL1m4"
      },
      "execution_count": 62,
      "outputs": []
    },
    {
      "cell_type": "code",
      "source": [
        "# Compute values for confusion matrix\n",
        "log_cm = confusion_matrix(y_test, y_pred, labels=log_clf.classes_)\n",
        "\n",
        "# Create display of confusion matrix\n",
        "log_disp = ConfusionMatrixDisplay(confusion_matrix=log_cm, display_labels=log_clf.classes_)\n",
        "\n",
        "# Plot confusion matrix\n",
        "log_disp.plot()\n",
        "\n",
        "# Display plot\n",
        "plt.show()"
      ],
      "metadata": {
        "colab": {
          "base_uri": "https://localhost:8080/",
          "height": 449
        },
        "id": "zJf4WfHmMks7",
        "outputId": "6c4ac322-14f5-4141-c338-aa76d3c3f12e"
      },
      "execution_count": 63,
      "outputs": [
        {
          "output_type": "display_data",
          "data": {
            "text/plain": [
              "<Figure size 640x480 with 2 Axes>"
            ],
            "image/png": "[encoded data removed]"
          },
          "metadata": {}
        }
      ]
    },
    {
      "cell_type": "code",
      "source": [
        "# Create classification report for logistic regression model\n",
        "target_labels = [\"verified\", \"not verified\"]\n",
        "print(classification_report(y_test, y_pred, target_names=target_labels))"
      ],
      "metadata": {
        "colab": {
          "base_uri": "https://localhost:8080/"
        },
        "id": "Zjk7kw8gO8H3",
        "outputId": "dda2ee7b-dec7-4326-a403-b592545a4ba1"
      },
      "execution_count": 64,
      "outputs": [
        {
          "output_type": "stream",
          "name": "stdout",
          "text": [
            "              precision    recall  f1-score   support\n",
            "\n",
            "    verified       0.74      0.43      0.54      4459\n",
            "not verified       0.60      0.85      0.70      4483\n",
            "\n",
            "    accuracy                           0.64      8942\n",
            "   macro avg       0.67      0.64      0.62      8942\n",
            "weighted avg       0.67      0.64      0.62      8942\n",
            "\n"
          ]
        }
      ]
    },
    {
      "cell_type": "markdown",
      "source": [
        "## Print the model coefficients."
      ],
      "metadata": {
        "id": "hnP1NppkYJZe"
      }
    },
    {
      "cell_type": "code",
      "source": [
        "# Get the feature names from the model and the model coefficients (which represent log-odds ratios)\n",
        "# Place into a DataFrame for readability\n",
        "pd.DataFrame(data={\"Feature Name\":log_clf.feature_names_in_, \"Model Coefficient\":log_clf.coef_[0]})"
      ],
      "metadata": {
        "colab": {
          "base_uri": "https://localhost:8080/",
          "height": 363
        },
        "id": "Ff3Z4ORLYSlP",
        "outputId": "bbb8f8d2-278c-4938-a3b4-0563a2b2279c"
      },
      "execution_count": 65,
      "outputs": [
        {
          "output_type": "execute_result",
          "data": {
            "text/plain": [
              "                     Feature Name  Model Coefficient\n",
              "0              video_duration_sec       1.355234e-03\n",
              "1                video_view_count      -2.420932e-06\n",
              "2                video_like_count      -1.312175e-07\n",
              "3               video_share_count       5.729121e-06\n",
              "4            video_download_count      -2.119851e-04\n",
              "5             video_comment_count       3.854594e-04\n",
              "6                        text_len       3.501774e-03\n",
              "7        author_ban_status_banned      -3.010897e-06\n",
              "8  author_ban_status_under review      -3.286972e-07\n",
              "9            claim_status_opinion       6.202213e-05"
            ],
            "text/html": [
              "\n",
              "  <div id=\"df-9ce17f88-936e-4892-95f7-25abd08f0c16\">\n",
              "    <div class=\"colab-df-container\">\n",
              "      <div>\n",
              "<style scoped>\n",
              "    .dataframe tbody tr th:only-of-type {\n",
              "        vertical-align: middle;\n",
              "    }\n",
              "\n",
              "    .dataframe tbody tr th {\n",
              "        vertical-align: top;\n",
              "    }\n",
              "\n",
              "    .dataframe thead th {\n",
              "        text-align: right;\n",
              "    }\n",
              "</style>\n",
              "<table border=\"1\" class=\"dataframe\">\n",
              "  <thead>\n",
              "    <tr style=\"text-align: right;\">\n",
              "      <th></th>\n",
              "      <th>Feature Name</th>\n",
              "      <th>Model Coefficient</th>\n",
              "    </tr>\n",
              "  </thead>\n",
              "  <tbody>\n",
              "    <tr>\n",
              "      <th>0</th>\n",
              "      <td>video_duration_sec</td>\n",
              "      <td>1.355234e-03</td>\n",
              "    </tr>\n",
              "    <tr>\n",
              "      <th>1</th>\n",
              "      <td>video_view_count</td>\n",
              "      <td>-2.420932e-06</td>\n",
              "    </tr>\n",
              "    <tr>\n",
              "      <th>2</th>\n",
              "      <td>video_like_count</td>\n",
              "      <td>-1.312175e-07</td>\n",
              "    </tr>\n",
              "    <tr>\n",
              "      <th>3</th>\n",
              "      <td>video_share_count</td>\n",
              "      <td>5.729121e-06</td>\n",
              "    </tr>\n",
              "    <tr>\n",
              "      <th>4</th>\n",
              "      <td>video_download_count</td>\n",
              "      <td>-2.119851e-04</td>\n",
              "    </tr>\n",
              "    <tr>\n",
              "      <th>5</th>\n",
              "      <td>video_comment_count</td>\n",
              "      <td>3.854594e-04</td>\n",
              "    </tr>\n",
              "    <tr>\n",
              "      <th>6</th>\n",
              "      <td>text_len</td>\n",
              "      <td>3.501774e-03</td>\n",
              "    </tr>\n",
              "    <tr>\n",
              "      <th>7</th>\n",
              "      <td>author_ban_status_banned</td>\n",
              "      <td>-3.010897e-06</td>\n",
              "    </tr>\n",
              "    <tr>\n",
              "      <th>8</th>\n",
              "      <td>author_ban_status_under review</td>\n",
              "      <td>-3.286972e-07</td>\n",
              "    </tr>\n",
              "    <tr>\n",
              "      <th>9</th>\n",
              "      <td>claim_status_opinion</td>\n",
              "      <td>6.202213e-05</td>\n",
              "    </tr>\n",
              "  </tbody>\n",
              "</table>\n",
              "</div>\n",
              "      <button class=\"colab-df-convert\" onclick=\"convertToInteractive('df-9ce17f88-936e-4892-95f7-25abd08f0c16')\"\n",
              "              title=\"Convert this dataframe to an interactive table.\"\n",
              "              style=\"display:none;\">\n",
              "        \n",
              "  <svg xmlns=\"http://www.w3.org/2000/svg\" height=\"24px\"viewBox=\"0 0 24 24\"\n",
              "       width=\"24px\">\n",
              "    <path d=\"M0 0h24v24H0V0z\" fill=\"none\"/>\n",
              "    <path d=\"M18.56 5.44l.94 2.06.94-2.06 2.06-.94-2.06-.94-.94-2.06-.94 2.06-2.06.94zm-11 1L8.5 8.5l.94-2.06 2.06-.94-2.06-.94L8.5 2.5l-.94 2.06-2.06.94zm10 10l.94 2.06.94-2.06 2.06-.94-2.06-.94-.94-2.06-.94 2.06-2.06.94z\"/><path d=\"M17.41 7.96l-1.37-1.37c-.4-.4-.92-.59-1.43-.59-.52 0-1.04.2-1.43.59L10.3 9.45l-7.72 7.72c-.78.78-.78 2.05 0 2.83L4 21.41c.39.39.9.59 1.41.59.51 0 1.02-.2 1.41-.59l7.78-7.78 2.81-2.81c.8-.78.8-2.07 0-2.86zM5.41 20L4 18.59l7.72-7.72 1.47 1.35L5.41 20z\"/>\n",
              "  </svg>\n",
              "      </button>\n",
              "      \n",
              "  <style>\n",
              "    .colab-df-container {\n",
              "      display:flex;\n",
              "      flex-wrap:wrap;\n",
              "      gap: 12px;\n",
              "    }\n",
              "\n",
              "    .colab-df-convert {\n",
              "      background-color: #E8F0FE;\n",
              "      border: none;\n",
              "      border-radius: 50%;\n",
              "      cursor: pointer;\n",
              "      display: none;\n",
              "      fill: #1967D2;\n",
              "      height: 32px;\n",
              "      padding: 0 0 0 0;\n",
              "      width: 32px;\n",
              "    }\n",
              "\n",
              "    .colab-df-convert:hover {\n",
              "      background-color: #E2EBFA;\n",
              "      box-shadow: 0px 1px 2px rgba(60, 64, 67, 0.3), 0px 1px 3px 1px rgba(60, 64, 67, 0.15);\n",
              "      fill: #174EA6;\n",
              "    }\n",
              "\n",
              "    [theme=dark] .colab-df-convert {\n",
              "      background-color: #3B4455;\n",
              "      fill: #D2E3FC;\n",
              "    }\n",
              "\n",
              "    [theme=dark] .colab-df-convert:hover {\n",
              "      background-color: #434B5C;\n",
              "      box-shadow: 0px 1px 3px 1px rgba(0, 0, 0, 0.15);\n",
              "      filter: drop-shadow(0px 1px 2px rgba(0, 0, 0, 0.3));\n",
              "      fill: #FFFFFF;\n",
              "    }\n",
              "  </style>\n",
              "\n",
              "      <script>\n",
              "        const buttonEl =\n",
              "          document.querySelector('#df-9ce17f88-936e-4892-95f7-25abd08f0c16 button.colab-df-convert');\n",
              "        buttonEl.style.display =\n",
              "          google.colab.kernel.accessAllowed ? 'block' : 'none';\n",
              "\n",
              "        async function convertToInteractive(key) {\n",
              "          const element = document.querySelector('#df-9ce17f88-936e-4892-95f7-25abd08f0c16');\n",
              "          const dataTable =\n",
              "            await google.colab.kernel.invokeFunction('convertToInteractive',\n",
              "                                                     [key], {});\n",
              "          if (!dataTable) return;\n",
              "\n",
              "          const docLinkHtml = 'Like what you see? Visit the ' +\n",
              "            '<a target=\"_blank\" href=https://colab.research.google.com/notebooks/data_table.ipynb>data table notebook</a>'\n",
              "            + ' to learn more about interactive tables.';\n",
              "          element.innerHTML = '';\n",
              "          dataTable['output_type'] = 'display_data';\n",
              "          await google.colab.output.renderOutput(dataTable, element);\n",
              "          const docLink = document.createElement('div');\n",
              "          docLink.innerHTML = docLinkHtml;\n",
              "          element.appendChild(docLink);\n",
              "        }\n",
              "      </script>\n",
              "    </div>\n",
              "  </div>\n",
              "  "
            ]
          },
          "metadata": {},
          "execution_count": 65
        }
      ]
    },
    {
      "cell_type": "markdown",
      "source": [
        "# Part 6: Hyperparameter Tuning.\n",
        "In this step, I will inplement the processes includes:\n",
        "\n",
        "\n",
        "1.   Split the dataset into training, validation and testing set as the proportion 60/20/20.\n",
        "2.   Using RandomForestClassifier and XGBClassifier with different hyperparameters to tune the hyperparameters.\n",
        "3.   Evaluating the models with validation set.\n",
        "4.   Using the best model to predict the testing set.\n",
        "\n"
      ],
      "metadata": {
        "id": "9cRtTc4GYWFF"
      }
    },
    {
      "cell_type": "markdown",
      "source": [
        "## Split the dataset."
      ],
      "metadata": {
        "id": "r0DoBAQSfekG"
      }
    },
    {
      "cell_type": "code",
      "source": [
        "# Seperate the testing set.\n",
        "X_tr, X_test, y_tr, y_test = train_test_split(X, y, test_size=0.2, random_state=0)"
      ],
      "metadata": {
        "id": "Zrq80VlBfhCk"
      },
      "execution_count": 66,
      "outputs": []
    },
    {
      "cell_type": "code",
      "source": [
        "# Split the training data into training and validation sets\n",
        "X_train, X_val, y_train, y_val = train_test_split(X_tr, y_tr, test_size=0.25, random_state=0)"
      ],
      "metadata": {
        "id": "-m3sLl4IfyAS"
      },
      "execution_count": 67,
      "outputs": []
    },
    {
      "cell_type": "markdown",
      "source": [
        "## Build models."
      ],
      "metadata": {
        "id": "BRtkQpVvf2Sc"
      }
    },
    {
      "cell_type": "markdown",
      "source": [
        "## Import required libraries."
      ],
      "metadata": {
        "id": "Rs2M5zeUgF0a"
      }
    },
    {
      "cell_type": "code",
      "source": [
        "from sklearn.model_selection import train_test_split, GridSearchCV\n",
        "from sklearn.metrics import classification_report, accuracy_score, precision_score, recall_score, f1_score, confusion_matrix, ConfusionMatrixDisplay\n",
        "\n",
        "from sklearn.ensemble import RandomForestClassifier\n",
        "from xgboost import XGBClassifier\n",
        "from xgboost import plot_importance"
      ],
      "metadata": {
        "id": "iWOS1SsfgMcw"
      },
      "execution_count": 68,
      "outputs": []
    },
    {
      "cell_type": "markdown",
      "source": [
        "### Build ramdom forest model."
      ],
      "metadata": {
        "id": "HlnoLUSef-qP"
      }
    },
    {
      "cell_type": "code",
      "source": [
        "# Instantiate the random forest classifier\n",
        "rf = RandomForestClassifier(random_state=0)\n",
        "\n",
        "# Create a dictionary of hyperparameters to tune\n",
        "cv_params = {'max_depth': [5, 7, None],\n",
        "             'max_features': [0.3, 0.6],\n",
        "            #  'max_features': 'auto'\n",
        "             'max_samples': [0.7],\n",
        "             'min_samples_leaf': [1,2],\n",
        "             'min_samples_split': [2,3],\n",
        "             'n_estimators': [75,100,200],\n",
        "             }\n",
        "\n",
        "# Define a dictionary of scoring metrics to capture\n",
        "scoring = {'accuracy', 'precision', 'recall', 'f1'}\n",
        "\n",
        "# Instantiate the GridSearchCV object\n",
        "rf_cv = GridSearchCV(rf, cv_params, scoring=scoring, cv=5, refit='recall')"
      ],
      "metadata": {
        "id": "h6F6owQPgERi"
      },
      "execution_count": 69,
      "outputs": []
    },
    {
      "cell_type": "code",
      "source": [
        "# Implement cross validation.\n",
        "rf_cv.fit(X_train, y_train)"
      ],
      "metadata": {
        "colab": {
          "base_uri": "https://localhost:8080/",
          "height": 116
        },
        "id": "i4TYJfSpgpXA",
        "outputId": "fedc7347-9309-4117-e69d-a7cc34acef4c"
      },
      "execution_count": 70,
      "outputs": [
        {
          "output_type": "execute_result",
          "data": {
            "text/plain": [
              "GridSearchCV(cv=5, estimator=RandomForestClassifier(random_state=0),\n",
              "             param_grid={'max_depth': [5, 7, None], 'max_features': [0.3, 0.6],\n",
              "                         'max_samples': [0.7], 'min_samples_leaf': [1, 2],\n",
              "                         'min_samples_split': [2, 3],\n",
              "                         'n_estimators': [75, 100, 200]},\n",
              "             refit='recall', scoring={'accuracy', 'precision', 'recall', 'f1'})"
            ],
            "text/html": [
              "<style>#sk-container-id-2 {color: black;background-color: white;}#sk-container-id-2 pre{padding: 0;}#sk-container-id-2 div.sk-toggleable {background-color: white;}#sk-container-id-2 label.sk-toggleable__label {cursor: pointer;display: block;width: 100%;margin-bottom: 0;padding: 0.3em;box-sizing: border-box;text-align: center;}#sk-container-id-2 label.sk-toggleable__label-arrow:before {content: \"▸\";float: left;margin-right: 0.25em;color: #696969;}#sk-container-id-2 label.sk-toggleable__label-arrow:hover:before {color: black;}#sk-container-id-2 div.sk-estimator:hover label.sk-toggleable__label-arrow:before {color: black;}#sk-container-id-2 div.sk-toggleable__content {max-height: 0;max-width: 0;overflow: hidden;text-align: left;background-color: #f0f8ff;}#sk-container-id-2 div.sk-toggleable__content pre {margin: 0.2em;color: black;border-radius: 0.25em;background-color: #f0f8ff;}#sk-container-id-2 input.sk-toggleable__control:checked~div.sk-toggleable__content {max-height: 200px;max-width: 100%;overflow: auto;}#sk-container-id-2 input.sk-toggleable__control:checked~label.sk-toggleable__label-arrow:before {content: \"▾\";}#sk-container-id-2 div.sk-estimator input.sk-toggleable__control:checked~label.sk-toggleable__label {background-color: #d4ebff;}#sk-container-id-2 div.sk-label input.sk-toggleable__control:checked~label.sk-toggleable__label {background-color: #d4ebff;}#sk-container-id-2 input.sk-hidden--visually {border: 0;clip: rect(1px 1px 1px 1px);clip: rect(1px, 1px, 1px, 1px);height: 1px;margin: -1px;overflow: hidden;padding: 0;position: absolute;width: 1px;}#sk-container-id-2 div.sk-estimator {font-family: monospace;background-color: #f0f8ff;border: 1px dotted black;border-radius: 0.25em;box-sizing: border-box;margin-bottom: 0.5em;}#sk-container-id-2 div.sk-estimator:hover {background-color: #d4ebff;}#sk-container-id-2 div.sk-parallel-item::after {content: \"\";width: 100%;border-bottom: 1px solid gray;flex-grow: 1;}#sk-container-id-2 div.sk-label:hover label.sk-toggleable__label {background-color: #d4ebff;}#sk-container-id-2 div.sk-serial::before {content: \"\";position: absolute;border-left: 1px solid gray;box-sizing: border-box;top: 0;bottom: 0;left: 50%;z-index: 0;}#sk-container-id-2 div.sk-serial {display: flex;flex-direction: column;align-items: center;background-color: white;padding-right: 0.2em;padding-left: 0.2em;position: relative;}#sk-container-id-2 div.sk-item {position: relative;z-index: 1;}#sk-container-id-2 div.sk-parallel {display: flex;align-items: stretch;justify-content: center;background-color: white;position: relative;}#sk-container-id-2 div.sk-item::before, #sk-container-id-2 div.sk-parallel-item::before {content: \"\";position: absolute;border-left: 1px solid gray;box-sizing: border-box;top: 0;bottom: 0;left: 50%;z-index: -1;}#sk-container-id-2 div.sk-parallel-item {display: flex;flex-direction: column;z-index: 1;position: relative;background-color: white;}#sk-container-id-2 div.sk-parallel-item:first-child::after {align-self: flex-end;width: 50%;}#sk-container-id-2 div.sk-parallel-item:last-child::after {align-self: flex-start;width: 50%;}#sk-container-id-2 div.sk-parallel-item:only-child::after {width: 0;}#sk-container-id-2 div.sk-dashed-wrapped {border: 1px dashed gray;margin: 0 0.4em 0.5em 0.4em;box-sizing: border-box;padding-bottom: 0.4em;background-color: white;}#sk-container-id-2 div.sk-label label {font-family: monospace;font-weight: bold;display: inline-block;line-height: 1.2em;}#sk-container-id-2 div.sk-label-container {text-align: center;}#sk-container-id-2 div.sk-container {/* jupyter's `normalize.less` sets `[hidden] { display: none; }` but bootstrap.min.css set `[hidden] { display: none !important; }` so we also need the `!important` here to be able to override the default hidden behavior on the sphinx rendered scikit-learn.org. See: https://github.com/scikit-learn/scikit-learn/issues/21755 */display: inline-block !important;position: relative;}#sk-container-id-2 div.sk-text-repr-fallback {display: none;}</style><div id=\"sk-container-id-2\" class=\"sk-top-container\"><div class=\"sk-text-repr-fallback\"><pre>GridSearchCV(cv=5, estimator=RandomForestClassifier(random_state=0),\n",
              "             param_grid={&#x27;max_depth&#x27;: [5, 7, None], &#x27;max_features&#x27;: [0.3, 0.6],\n",
              "                         &#x27;max_samples&#x27;: [0.7], &#x27;min_samples_leaf&#x27;: [1, 2],\n",
              "                         &#x27;min_samples_split&#x27;: [2, 3],\n",
              "                         &#x27;n_estimators&#x27;: [75, 100, 200]},\n",
              "             refit=&#x27;recall&#x27;, scoring={&#x27;accuracy&#x27;, &#x27;precision&#x27;, &#x27;recall&#x27;, &#x27;f1&#x27;})</pre><b>In a Jupyter environment, please rerun this cell to show the HTML representation or trust the notebook. <br />On GitHub, the HTML representation is unable to render, please try loading this page with nbviewer.org.</b></div><div class=\"sk-container\" hidden><div class=\"sk-item sk-dashed-wrapped\"><div class=\"sk-label-container\"><div class=\"sk-label sk-toggleable\"><input class=\"sk-toggleable__control sk-hidden--visually\" id=\"sk-estimator-id-2\" type=\"checkbox\" ><label for=\"sk-estimator-id-2\" class=\"sk-toggleable__label sk-toggleable__label-arrow\">GridSearchCV</label><div class=\"sk-toggleable__content\"><pre>GridSearchCV(cv=5, estimator=RandomForestClassifier(random_state=0),\n",
              "             param_grid={&#x27;max_depth&#x27;: [5, 7, None], &#x27;max_features&#x27;: [0.3, 0.6],\n",
              "                         &#x27;max_samples&#x27;: [0.7], &#x27;min_samples_leaf&#x27;: [1, 2],\n",
              "                         &#x27;min_samples_split&#x27;: [2, 3],\n",
              "                         &#x27;n_estimators&#x27;: [75, 100, 200]},\n",
              "             refit=&#x27;recall&#x27;, scoring={&#x27;accuracy&#x27;, &#x27;precision&#x27;, &#x27;recall&#x27;, &#x27;f1&#x27;})</pre></div></div></div><div class=\"sk-parallel\"><div class=\"sk-parallel-item\"><div class=\"sk-item\"><div class=\"sk-label-container\"><div class=\"sk-label sk-toggleable\"><input class=\"sk-toggleable__control sk-hidden--visually\" id=\"sk-estimator-id-3\" type=\"checkbox\" ><label for=\"sk-estimator-id-3\" class=\"sk-toggleable__label sk-toggleable__label-arrow\">estimator: RandomForestClassifier</label><div class=\"sk-toggleable__content\"><pre>RandomForestClassifier(random_state=0)</pre></div></div></div><div class=\"sk-serial\"><div class=\"sk-item\"><div class=\"sk-estimator sk-toggleable\"><input class=\"sk-toggleable__control sk-hidden--visually\" id=\"sk-estimator-id-4\" type=\"checkbox\" ><label for=\"sk-estimator-id-4\" class=\"sk-toggleable__label sk-toggleable__label-arrow\">RandomForestClassifier</label><div class=\"sk-toggleable__content\"><pre>RandomForestClassifier(random_state=0)</pre></div></div></div></div></div></div></div></div></div></div>"
            ]
          },
          "metadata": {},
          "execution_count": 70
        }
      ]
    },
    {
      "cell_type": "code",
      "source": [
        "# Examine best recall score\n",
        "rf_cv.best_score_"
      ],
      "metadata": {
        "colab": {
          "base_uri": "https://localhost:8080/"
        },
        "id": "I25NHoHig3ei",
        "outputId": "6a622e44-95d3-40f2-b6d0-23943228dec0"
      },
      "execution_count": 71,
      "outputs": [
        {
          "output_type": "execute_result",
          "data": {
            "text/plain": [
              "0.9994397759103641"
            ]
          },
          "metadata": {},
          "execution_count": 71
        }
      ]
    },
    {
      "cell_type": "code",
      "source": [
        "# Examine best parameters\n",
        "rf_cv.best_params_"
      ],
      "metadata": {
        "colab": {
          "base_uri": "https://localhost:8080/"
        },
        "id": "SS9FMm0tg8YI",
        "outputId": "db3d2c71-32c4-49ae-fddf-be59222564a6"
      },
      "execution_count": 72,
      "outputs": [
        {
          "output_type": "execute_result",
          "data": {
            "text/plain": [
              "{'max_depth': None,\n",
              " 'max_features': 0.3,\n",
              " 'max_samples': 0.7,\n",
              " 'min_samples_leaf': 1,\n",
              " 'min_samples_split': 2,\n",
              " 'n_estimators': 200}"
            ]
          },
          "metadata": {},
          "execution_count": 72
        }
      ]
    },
    {
      "cell_type": "markdown",
      "source": [
        "## Build XGBoost model."
      ],
      "metadata": {
        "id": "e8VFwWSQg9rL"
      }
    },
    {
      "cell_type": "code",
      "source": [
        "# Instantiate the XGBoost classifier\n",
        "xgb = XGBClassifier(objective='binary:logistic', random_state=0)\n",
        "\n",
        "# Create a dictionary of hyperparameters to tune\n",
        "cv_params = {'max_depth': [4,8,12],\n",
        "             'min_child_weight': [3, 5],\n",
        "             'learning_rate': [0.01, 0.1],\n",
        "             'n_estimators': [300, 500]\n",
        "             }\n",
        "\n",
        "# Define a dictionary of scoring metrics to capture\n",
        "scoring = {'accuracy', 'precision', 'recall', 'f1'}\n",
        "\n",
        "# Instantiate the GridSearchCV object\n",
        "xgb_cv = GridSearchCV(xgb, cv_params, scoring=scoring, cv=5, refit='recall')"
      ],
      "metadata": {
        "id": "WOn4e4cblGFp"
      },
      "execution_count": 73,
      "outputs": []
    },
    {
      "cell_type": "code",
      "source": [
        "xgb_cv.fit(X_train, y_train)"
      ],
      "metadata": {
        "colab": {
          "base_uri": "https://localhost:8080/",
          "height": 116
        },
        "id": "rUb7Iu_IlJZS",
        "outputId": "402a43a9-a947-480c-fa81-2613c6ecc12c"
      },
      "execution_count": 74,
      "outputs": [
        {
          "output_type": "execute_result",
          "data": {
            "text/plain": [
              "GridSearchCV(cv=5,\n",
              "             estimator=XGBClassifier(base_score=None, booster=None,\n",
              "                                     callbacks=None, colsample_bylevel=None,\n",
              "                                     colsample_bynode=None,\n",
              "                                     colsample_bytree=None,\n",
              "                                     early_stopping_rounds=None,\n",
              "                                     enable_categorical=False, eval_metric=None,\n",
              "                                     feature_types=None, gamma=None,\n",
              "                                     gpu_id=None, grow_policy=None,\n",
              "                                     importance_type=None,\n",
              "                                     interaction_constraints=None,\n",
              "                                     learning_rate=None,...\n",
              "                                     max_delta_step=None, max_depth=None,\n",
              "                                     max_leaves=None, min_child_weight=None,\n",
              "                                     missing=nan, monotone_constraints=None,\n",
              "                                     n_estimators=100, n_jobs=None,\n",
              "                                     num_parallel_tree=None, predictor=None,\n",
              "                                     random_state=0, ...),\n",
              "             param_grid={'learning_rate': [0.01, 0.1], 'max_depth': [4, 8, 12],\n",
              "                         'min_child_weight': [3, 5],\n",
              "                         'n_estimators': [300, 500]},\n",
              "             refit='recall', scoring={'accuracy', 'precision', 'recall', 'f1'})"
            ],
            "text/html": [
              "<style>#sk-container-id-3 {color: black;background-color: white;}#sk-container-id-3 pre{padding: 0;}#sk-container-id-3 div.sk-toggleable {background-color: white;}#sk-container-id-3 label.sk-toggleable__label {cursor: pointer;display: block;width: 100%;margin-bottom: 0;padding: 0.3em;box-sizing: border-box;text-align: center;}#sk-container-id-3 label.sk-toggleable__label-arrow:before {content: \"▸\";float: left;margin-right: 0.25em;color: #696969;}#sk-container-id-3 label.sk-toggleable__label-arrow:hover:before {color: black;}#sk-container-id-3 div.sk-estimator:hover label.sk-toggleable__label-arrow:before {color: black;}#sk-container-id-3 div.sk-toggleable__content {max-height: 0;max-width: 0;overflow: hidden;text-align: left;background-color: #f0f8ff;}#sk-container-id-3 div.sk-toggleable__content pre {margin: 0.2em;color: black;border-radius: 0.25em;background-color: #f0f8ff;}#sk-container-id-3 input.sk-toggleable__control:checked~div.sk-toggleable__content {max-height: 200px;max-width: 100%;overflow: auto;}#sk-container-id-3 input.sk-toggleable__control:checked~label.sk-toggleable__label-arrow:before {content: \"▾\";}#sk-container-id-3 div.sk-estimator input.sk-toggleable__control:checked~label.sk-toggleable__label {background-color: #d4ebff;}#sk-container-id-3 div.sk-label input.sk-toggleable__control:checked~label.sk-toggleable__label {background-color: #d4ebff;}#sk-container-id-3 input.sk-hidden--visually {border: 0;clip: rect(1px 1px 1px 1px);clip: rect(1px, 1px, 1px, 1px);height: 1px;margin: -1px;overflow: hidden;padding: 0;position: absolute;width: 1px;}#sk-container-id-3 div.sk-estimator {font-family: monospace;background-color: #f0f8ff;border: 1px dotted black;border-radius: 0.25em;box-sizing: border-box;margin-bottom: 0.5em;}#sk-container-id-3 div.sk-estimator:hover {background-color: #d4ebff;}#sk-container-id-3 div.sk-parallel-item::after {content: \"\";width: 100%;border-bottom: 1px solid gray;flex-grow: 1;}#sk-container-id-3 div.sk-label:hover label.sk-toggleable__label {background-color: #d4ebff;}#sk-container-id-3 div.sk-serial::before {content: \"\";position: absolute;border-left: 1px solid gray;box-sizing: border-box;top: 0;bottom: 0;left: 50%;z-index: 0;}#sk-container-id-3 div.sk-serial {display: flex;flex-direction: column;align-items: center;background-color: white;padding-right: 0.2em;padding-left: 0.2em;position: relative;}#sk-container-id-3 div.sk-item {position: relative;z-index: 1;}#sk-container-id-3 div.sk-parallel {display: flex;align-items: stretch;justify-content: center;background-color: white;position: relative;}#sk-container-id-3 div.sk-item::before, #sk-container-id-3 div.sk-parallel-item::before {content: \"\";position: absolute;border-left: 1px solid gray;box-sizing: border-box;top: 0;bottom: 0;left: 50%;z-index: -1;}#sk-container-id-3 div.sk-parallel-item {display: flex;flex-direction: column;z-index: 1;position: relative;background-color: white;}#sk-container-id-3 div.sk-parallel-item:first-child::after {align-self: flex-end;width: 50%;}#sk-container-id-3 div.sk-parallel-item:last-child::after {align-self: flex-start;width: 50%;}#sk-container-id-3 div.sk-parallel-item:only-child::after {width: 0;}#sk-container-id-3 div.sk-dashed-wrapped {border: 1px dashed gray;margin: 0 0.4em 0.5em 0.4em;box-sizing: border-box;padding-bottom: 0.4em;background-color: white;}#sk-container-id-3 div.sk-label label {font-family: monospace;font-weight: bold;display: inline-block;line-height: 1.2em;}#sk-container-id-3 div.sk-label-container {text-align: center;}#sk-container-id-3 div.sk-container {/* jupyter's `normalize.less` sets `[hidden] { display: none; }` but bootstrap.min.css set `[hidden] { display: none !important; }` so we also need the `!important` here to be able to override the default hidden behavior on the sphinx rendered scikit-learn.org. See: https://github.com/scikit-learn/scikit-learn/issues/21755 */display: inline-block !important;position: relative;}#sk-container-id-3 div.sk-text-repr-fallback {display: none;}</style><div id=\"sk-container-id-3\" class=\"sk-top-container\"><div class=\"sk-text-repr-fallback\"><pre>GridSearchCV(cv=5,\n",
              "             estimator=XGBClassifier(base_score=None, booster=None,\n",
              "                                     callbacks=None, colsample_bylevel=None,\n",
              "                                     colsample_bynode=None,\n",
              "                                     colsample_bytree=None,\n",
              "                                     early_stopping_rounds=None,\n",
              "                                     enable_categorical=False, eval_metric=None,\n",
              "                                     feature_types=None, gamma=None,\n",
              "                                     gpu_id=None, grow_policy=None,\n",
              "                                     importance_type=None,\n",
              "                                     interaction_constraints=None,\n",
              "                                     learning_rate=None,...\n",
              "                                     max_delta_step=None, max_depth=None,\n",
              "                                     max_leaves=None, min_child_weight=None,\n",
              "                                     missing=nan, monotone_constraints=None,\n",
              "                                     n_estimators=100, n_jobs=None,\n",
              "                                     num_parallel_tree=None, predictor=None,\n",
              "                                     random_state=0, ...),\n",
              "             param_grid={&#x27;learning_rate&#x27;: [0.01, 0.1], &#x27;max_depth&#x27;: [4, 8, 12],\n",
              "                         &#x27;min_child_weight&#x27;: [3, 5],\n",
              "                         &#x27;n_estimators&#x27;: [300, 500]},\n",
              "             refit=&#x27;recall&#x27;, scoring={&#x27;accuracy&#x27;, &#x27;precision&#x27;, &#x27;recall&#x27;, &#x27;f1&#x27;})</pre><b>In a Jupyter environment, please rerun this cell to show the HTML representation or trust the notebook. <br />On GitHub, the HTML representation is unable to render, please try loading this page with nbviewer.org.</b></div><div class=\"sk-container\" hidden><div class=\"sk-item sk-dashed-wrapped\"><div class=\"sk-label-container\"><div class=\"sk-label sk-toggleable\"><input class=\"sk-toggleable__control sk-hidden--visually\" id=\"sk-estimator-id-5\" type=\"checkbox\" ><label for=\"sk-estimator-id-5\" class=\"sk-toggleable__label sk-toggleable__label-arrow\">GridSearchCV</label><div class=\"sk-toggleable__content\"><pre>GridSearchCV(cv=5,\n",
              "             estimator=XGBClassifier(base_score=None, booster=None,\n",
              "                                     callbacks=None, colsample_bylevel=None,\n",
              "                                     colsample_bynode=None,\n",
              "                                     colsample_bytree=None,\n",
              "                                     early_stopping_rounds=None,\n",
              "                                     enable_categorical=False, eval_metric=None,\n",
              "                                     feature_types=None, gamma=None,\n",
              "                                     gpu_id=None, grow_policy=None,\n",
              "                                     importance_type=None,\n",
              "                                     interaction_constraints=None,\n",
              "                                     learning_rate=None,...\n",
              "                                     max_delta_step=None, max_depth=None,\n",
              "                                     max_leaves=None, min_child_weight=None,\n",
              "                                     missing=nan, monotone_constraints=None,\n",
              "                                     n_estimators=100, n_jobs=None,\n",
              "                                     num_parallel_tree=None, predictor=None,\n",
              "                                     random_state=0, ...),\n",
              "             param_grid={&#x27;learning_rate&#x27;: [0.01, 0.1], &#x27;max_depth&#x27;: [4, 8, 12],\n",
              "                         &#x27;min_child_weight&#x27;: [3, 5],\n",
              "                         &#x27;n_estimators&#x27;: [300, 500]},\n",
              "             refit=&#x27;recall&#x27;, scoring={&#x27;accuracy&#x27;, &#x27;precision&#x27;, &#x27;recall&#x27;, &#x27;f1&#x27;})</pre></div></div></div><div class=\"sk-parallel\"><div class=\"sk-parallel-item\"><div class=\"sk-item\"><div class=\"sk-label-container\"><div class=\"sk-label sk-toggleable\"><input class=\"sk-toggleable__control sk-hidden--visually\" id=\"sk-estimator-id-6\" type=\"checkbox\" ><label for=\"sk-estimator-id-6\" class=\"sk-toggleable__label sk-toggleable__label-arrow\">estimator: XGBClassifier</label><div class=\"sk-toggleable__content\"><pre>XGBClassifier(base_score=None, booster=None, callbacks=None,\n",
              "              colsample_bylevel=None, colsample_bynode=None,\n",
              "              colsample_bytree=None, early_stopping_rounds=None,\n",
              "              enable_categorical=False, eval_metric=None, feature_types=None,\n",
              "              gamma=None, gpu_id=None, grow_policy=None, importance_type=None,\n",
              "              interaction_constraints=None, learning_rate=None, max_bin=None,\n",
              "              max_cat_threshold=None, max_cat_to_onehot=None,\n",
              "              max_delta_step=None, max_depth=None, max_leaves=None,\n",
              "              min_child_weight=None, missing=nan, monotone_constraints=None,\n",
              "              n_estimators=100, n_jobs=None, num_parallel_tree=None,\n",
              "              predictor=None, random_state=0, ...)</pre></div></div></div><div class=\"sk-serial\"><div class=\"sk-item\"><div class=\"sk-estimator sk-toggleable\"><input class=\"sk-toggleable__control sk-hidden--visually\" id=\"sk-estimator-id-7\" type=\"checkbox\" ><label for=\"sk-estimator-id-7\" class=\"sk-toggleable__label sk-toggleable__label-arrow\">XGBClassifier</label><div class=\"sk-toggleable__content\"><pre>XGBClassifier(base_score=None, booster=None, callbacks=None,\n",
              "              colsample_bylevel=None, colsample_bynode=None,\n",
              "              colsample_bytree=None, early_stopping_rounds=None,\n",
              "              enable_categorical=False, eval_metric=None, feature_types=None,\n",
              "              gamma=None, gpu_id=None, grow_policy=None, importance_type=None,\n",
              "              interaction_constraints=None, learning_rate=None, max_bin=None,\n",
              "              max_cat_threshold=None, max_cat_to_onehot=None,\n",
              "              max_delta_step=None, max_depth=None, max_leaves=None,\n",
              "              min_child_weight=None, missing=nan, monotone_constraints=None,\n",
              "              n_estimators=100, n_jobs=None, num_parallel_tree=None,\n",
              "              predictor=None, random_state=0, ...)</pre></div></div></div></div></div></div></div></div></div></div>"
            ]
          },
          "metadata": {},
          "execution_count": 74
        }
      ]
    },
    {
      "cell_type": "code",
      "source": [
        "xgb_cv.best_score_"
      ],
      "metadata": {
        "colab": {
          "base_uri": "https://localhost:8080/"
        },
        "id": "GwzsenH5lMva",
        "outputId": "647db024-e92b-40ac-ae14-f842a37e9c99"
      },
      "execution_count": 75,
      "outputs": [
        {
          "output_type": "execute_result",
          "data": {
            "text/plain": [
              "0.9992530781172324"
            ]
          },
          "metadata": {},
          "execution_count": 75
        }
      ]
    },
    {
      "cell_type": "code",
      "source": [
        "xgb_cv.best_params_"
      ],
      "metadata": {
        "colab": {
          "base_uri": "https://localhost:8080/"
        },
        "id": "dfcxq6ycmDY2",
        "outputId": "a78471ae-c8cf-42c7-a95c-d36e73883b69"
      },
      "execution_count": 76,
      "outputs": [
        {
          "output_type": "execute_result",
          "data": {
            "text/plain": [
              "{'learning_rate': 0.1,\n",
              " 'max_depth': 12,\n",
              " 'min_child_weight': 3,\n",
              " 'n_estimators': 500}"
            ]
          },
          "metadata": {},
          "execution_count": 76
        }
      ]
    },
    {
      "cell_type": "markdown",
      "source": [
        "## Evaluating the best model."
      ],
      "metadata": {
        "id": "qWIZVBU1mEqF"
      }
    },
    {
      "cell_type": "code",
      "source": [
        "# Use the random forest \"best estimator\" model to get predictions on the validation set\n",
        "y_pred = rf_cv.best_estimator_.predict(X_val)"
      ],
      "metadata": {
        "id": "WRH46ZxcmRk7"
      },
      "execution_count": 77,
      "outputs": []
    },
    {
      "cell_type": "markdown",
      "source": [
        "### Visualizing the confusion matrix."
      ],
      "metadata": {
        "id": "wXAMcpwSmYDb"
      }
    },
    {
      "cell_type": "code",
      "source": [
        "# Create a confusion matrix to visualize the results of the classification model\n",
        "\n",
        "# Compute values for confusion matrix\n",
        "log_cm = confusion_matrix(y_val, y_pred)\n",
        "\n",
        "# Create display of confusion matrix\n",
        "log_disp = ConfusionMatrixDisplay(confusion_matrix=log_cm, display_labels=None)\n",
        "\n",
        "# Plot confusion matrix\n",
        "log_disp.plot()"
      ],
      "metadata": {
        "colab": {
          "base_uri": "https://localhost:8080/",
          "height": 466
        },
        "id": "5_7neyKumxQ5",
        "outputId": "dbc6c27b-a0c4-404c-d008-932f166730d0"
      },
      "execution_count": 78,
      "outputs": [
        {
          "output_type": "execute_result",
          "data": {
            "text/plain": [
              "<sklearn.metrics._plot.confusion_matrix.ConfusionMatrixDisplay at 0x7f8a1908fb20>"
            ]
          },
          "metadata": {},
          "execution_count": 78
        },
        {
          "output_type": "display_data",
          "data": {
            "text/plain": [
              "<Figure size 640x480 with 2 Axes>"
            ],
            "image/png": "[encoded data removed]"
          },
          "metadata": {}
        }
      ]
    },
    {
      "cell_type": "markdown",
      "source": [
        "### Print the evaluation report."
      ],
      "metadata": {
        "id": "af7saA6ym2dy"
      }
    },
    {
      "cell_type": "code",
      "source": [
        "# Create a classification report\n",
        "# Create classification report for random forest model\n",
        "target_labels = [\"verified\", \"not verified\"]\n",
        "print(classification_report(y_val, y_pred, target_names=target_labels))"
      ],
      "metadata": {
        "colab": {
          "base_uri": "https://localhost:8080/"
        },
        "id": "wMdsm561nEeU",
        "outputId": "c17fc538-59e4-4e51-deaa-8b76907f365b"
      },
      "execution_count": 79,
      "outputs": [
        {
          "output_type": "stream",
          "name": "stdout",
          "text": [
            "              precision    recall  f1-score   support\n",
            "\n",
            "    verified       1.00      0.99      0.99      3571\n",
            "not verified       0.99      1.00      0.99      3583\n",
            "\n",
            "    accuracy                           0.99      7154\n",
            "   macro avg       0.99      0.99      0.99      7154\n",
            "weighted avg       0.99      0.99      0.99      7154\n",
            "\n"
          ]
        }
      ]
    },
    {
      "cell_type": "markdown",
      "source": [
        "# Part 7: Final Evaluation."
      ],
      "metadata": {
        "id": "gbiu7oIandV2"
      }
    },
    {
      "cell_type": "code",
      "source": [
        "# Use champion model to predict on test data\n",
        "y_pred = rf_cv.best_estimator_.predict(X_test)"
      ],
      "metadata": {
        "id": "nptXkYa7n81a"
      },
      "execution_count": 80,
      "outputs": []
    },
    {
      "cell_type": "code",
      "source": [
        "# Compute values for confusion matrix\n",
        "log_cm = confusion_matrix(y_test, y_pred)\n",
        "\n",
        "# Create display of confusion matrix\n",
        "log_disp = ConfusionMatrixDisplay(confusion_matrix=log_cm, display_labels=None)\n",
        "\n",
        "# Plot confusion matrix\n",
        "log_disp.plot()"
      ],
      "metadata": {
        "colab": {
          "base_uri": "https://localhost:8080/",
          "height": 466
        },
        "id": "oCP3f-Q0n_MP",
        "outputId": "64a0af47-383a-4358-babf-95c572737a33"
      },
      "execution_count": 81,
      "outputs": [
        {
          "output_type": "execute_result",
          "data": {
            "text/plain": [
              "<sklearn.metrics._plot.confusion_matrix.ConfusionMatrixDisplay at 0x7f8a18f9feb0>"
            ]
          },
          "metadata": {},
          "execution_count": 81
        },
        {
          "output_type": "display_data",
          "data": {
            "text/plain": [
              "<Figure size 640x480 with 2 Axes>"
            ],
            "image/png": "[encoded data removed]"
          },
          "metadata": {}
        }
      ]
    },
    {
      "cell_type": "code",
      "source": [
        "importances = rf_cv.best_estimator_.feature_importances_\n",
        "rf_importances = pd.Series(importances, index=X_test.columns)\n",
        "\n",
        "fig, ax = plt.subplots()\n",
        "rf_importances.plot.bar(ax=ax)\n",
        "ax.set_title('Feature importances')\n",
        "ax.set_ylabel('Mean decrease in impurity')\n",
        "fig.tight_layout()"
      ],
      "metadata": {
        "colab": {
          "base_uri": "https://localhost:8080/",
          "height": 487
        },
        "id": "00bDhS9poCcu",
        "outputId": "1deb5ffc-0986-40d6-96e7-9d6035ff362f"
      },
      "execution_count": 82,
      "outputs": [
        {
          "output_type": "display_data",
          "data": {
            "text/plain": [
              "<Figure size 640x480 with 1 Axes>"
            ],
            "image/png": "[encoded data removed]"
          },
          "metadata": {}
        }
      ]
    },
    {
      "cell_type": "code",
      "source": [],
      "metadata": {
        "id": "dcQI5SXUoHyc"
      },
      "execution_count": 82,
      "outputs": []
    }
  ]
}